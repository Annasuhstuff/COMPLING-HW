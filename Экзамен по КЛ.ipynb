{
 "cells": [
  {
   "cell_type": "code",
   "execution_count": 1,
   "id": "02cba8f0",
   "metadata": {},
   "outputs": [
    {
     "name": "stdout",
     "output_type": "stream",
     "text": [
      "Requirement already satisfied: pymystem3 in ./opt/anaconda3/lib/python3.8/site-packages (0.2.0)\n",
      "Requirement already satisfied: requests in ./opt/anaconda3/lib/python3.8/site-packages (from pymystem3) (2.25.1)\n",
      "Requirement already satisfied: certifi>=2017.4.17 in ./opt/anaconda3/lib/python3.8/site-packages (from requests->pymystem3) (2020.12.5)\n",
      "Requirement already satisfied: chardet<5,>=3.0.2 in ./opt/anaconda3/lib/python3.8/site-packages (from requests->pymystem3) (4.0.0)\n",
      "Requirement already satisfied: idna<3,>=2.5 in ./opt/anaconda3/lib/python3.8/site-packages (from requests->pymystem3) (2.10)\n",
      "Requirement already satisfied: urllib3<1.27,>=1.21.1 in ./opt/anaconda3/lib/python3.8/site-packages (from requests->pymystem3) (1.26.4)\n",
      "\u001b[33mWARNING: There was an error checking the latest version of pip.\u001b[0m\u001b[33m\n",
      "\u001b[0mRequirement already satisfied: pymorphy2 in ./opt/anaconda3/lib/python3.8/site-packages (0.9.1)\n",
      "Requirement already satisfied: docopt>=0.6 in ./opt/anaconda3/lib/python3.8/site-packages (from pymorphy2) (0.6.2)\n",
      "Requirement already satisfied: pymorphy2-dicts-ru<3.0,>=2.4 in ./opt/anaconda3/lib/python3.8/site-packages (from pymorphy2) (2.4.417127.4579844)\n",
      "Requirement already satisfied: dawg-python>=0.7.1 in ./opt/anaconda3/lib/python3.8/site-packages (from pymorphy2) (0.7.2)\n",
      "\u001b[33mWARNING: There was an error checking the latest version of pip.\u001b[0m\u001b[33m\n",
      "\u001b[0mRequirement already satisfied: razdel in ./opt/anaconda3/lib/python3.8/site-packages (0.5.0)\n",
      "\u001b[33mWARNING: There was an error checking the latest version of pip.\u001b[0m\u001b[33m\n",
      "\u001b[0mRequirement already satisfied: gensim in ./opt/anaconda3/lib/python3.8/site-packages (4.1.2)\n",
      "Requirement already satisfied: smart-open>=1.8.1 in ./opt/anaconda3/lib/python3.8/site-packages (from gensim) (5.2.1)\n",
      "Requirement already satisfied: scipy>=0.18.1 in ./opt/anaconda3/lib/python3.8/site-packages (from gensim) (1.6.2)\n",
      "Requirement already satisfied: numpy>=1.17.0 in ./opt/anaconda3/lib/python3.8/site-packages (from gensim) (1.20.1)\n",
      "\u001b[33mWARNING: There was an error checking the latest version of pip.\u001b[0m\u001b[33m\n",
      "\u001b[0mRequirement already satisfied: nltk in ./opt/anaconda3/lib/python3.8/site-packages (3.6.1)\n",
      "Requirement already satisfied: joblib in ./opt/anaconda3/lib/python3.8/site-packages (from nltk) (1.0.1)\n",
      "Requirement already satisfied: tqdm in ./opt/anaconda3/lib/python3.8/site-packages (from nltk) (4.64.0)\n",
      "Requirement already satisfied: regex in ./opt/anaconda3/lib/python3.8/site-packages (from nltk) (2021.4.4)\n",
      "Requirement already satisfied: click in ./opt/anaconda3/lib/python3.8/site-packages (from nltk) (7.1.2)\n",
      "\u001b[33mWARNING: There was an error checking the latest version of pip.\u001b[0m\u001b[33m\n",
      "\u001b[0mRequirement already satisfied: rusenttokenize in ./opt/anaconda3/lib/python3.8/site-packages (0.0.5)\n",
      "\u001b[33mWARNING: There was an error checking the latest version of pip.\u001b[0m\u001b[33m\n",
      "\u001b[0mRequirement already satisfied: regex in ./opt/anaconda3/lib/python3.8/site-packages (2021.4.4)\n",
      "\u001b[33mWARNING: There was an error checking the latest version of pip.\u001b[0m\u001b[33m\n",
      "\u001b[0m"
     ]
    }
   ],
   "source": [
    "!pip install pymystem3\n",
    "!pip install pymorphy2\n",
    "!pip install razdel\n",
    "!pip install gensim\n",
    "!pip install nltk\n",
    "!pip install rusenttokenize\n",
    "!pip install regex"
   ]
  },
  {
   "cell_type": "code",
   "execution_count": 2,
   "id": "58e87fa8",
   "metadata": {},
   "outputs": [],
   "source": [
    "from razdel import tokenize\n",
    "import nltk"
   ]
  },
  {
   "cell_type": "code",
   "execution_count": 3,
   "id": "9698a895",
   "metadata": {},
   "outputs": [
    {
     "name": "stdout",
     "output_type": "stream",
     "text": [
      "Requirement already satisfied: pymystem3 in ./opt/anaconda3/lib/python3.8/site-packages (0.2.0)\n",
      "Requirement already satisfied: requests in ./opt/anaconda3/lib/python3.8/site-packages (from pymystem3) (2.25.1)\n",
      "Requirement already satisfied: idna<3,>=2.5 in ./opt/anaconda3/lib/python3.8/site-packages (from requests->pymystem3) (2.10)\n",
      "Requirement already satisfied: chardet<5,>=3.0.2 in ./opt/anaconda3/lib/python3.8/site-packages (from requests->pymystem3) (4.0.0)\n",
      "Requirement already satisfied: urllib3<1.27,>=1.21.1 in ./opt/anaconda3/lib/python3.8/site-packages (from requests->pymystem3) (1.26.4)\n",
      "Requirement already satisfied: certifi>=2017.4.17 in ./opt/anaconda3/lib/python3.8/site-packages (from requests->pymystem3) (2020.12.5)\n",
      "\u001b[33mWARNING: There was an error checking the latest version of pip.\u001b[0m\u001b[33m\n",
      "\u001b[0m"
     ]
    }
   ],
   "source": [
    "! pip install pymystem3"
   ]
  },
  {
   "cell_type": "code",
   "execution_count": 4,
   "id": "a75d2d8c",
   "metadata": {},
   "outputs": [],
   "source": [
    "from pymystem3 import Mystem"
   ]
  },
  {
   "cell_type": "code",
   "execution_count": 5,
   "id": "7c1a53e8",
   "metadata": {},
   "outputs": [],
   "source": [
    "import re\n",
    "import nltk\n"
   ]
  },
  {
   "cell_type": "markdown",
   "id": "65fdf124",
   "metadata": {},
   "source": [
    "# Задание 1"
   ]
  },
  {
   "cell_type": "code",
   "execution_count": 31,
   "id": "8be6cf87",
   "metadata": {},
   "outputs": [
    {
     "name": "stdout",
     "output_type": "stream",
     "text": [
      "[['Зонды', 'NOUN'], ['будут', 'VERB'], ['запущены', 'PRTS'], ['в', 'PREP'], ['космос', 'NOUN'], ['в', 'PREP'], ['2029', None], ['году', 'NOUN'], ['и', 'CONJ'], ['отправятся', 'VERB'], ['ко', 'PREP'], ['второй', 'ADJF'], ['точке', 'NOUN'], ['Лагранжа', 'NOUN'], ['в', 'PREP'], ['системе', 'NOUN'], ['Солнце', 'NOUN']]\n",
      "[['будут', 'VERB'], ['отправятся', 'VERB']]\n"
     ]
    }
   ],
   "source": [
    "import pymorphy2 as pm\n",
    "morph = pm.MorphAnalyzer()\n",
    "text = \"Зонды будут запущены в космос в 2029 году и отправятся ко второй точке Лагранжа в системе Солнце\"\n",
    "textTokens = text.split(' ')\n",
    "textParts = [] \n",
    "verbs = []\n",
    "for i in textTokens:\n",
    "    pos = morph.parse(i.lower())[0].tag.POS\n",
    "    textParts.append([i, pos])\n",
    "    if pos == \"VERB\":\n",
    "        verbs.append([i, pos])\n",
    "print(textParts)\n",
    "print(verbs)"
   ]
  },
  {
   "cell_type": "markdown",
   "id": "883a6a8a",
   "metadata": {},
   "source": [
    "# Задание 2\n",
    "На данных предложениях обучите TFIDF векторайзер из sklearn (с дефолтными параметрами). Найдите слово с самым высоким коэффициентом tfidf в первом тексте. Вставьте его в форму."
   ]
  },
  {
   "cell_type": "code",
   "execution_count": 34,
   "id": "44972c28",
   "metadata": {},
   "outputs": [],
   "source": [
    "import requests\n",
    "r = requests.get(\n",
    "    'https://raw.githubusercontent.com/mannefedov/compling_nlp_hse_course/master/data/anna_karenina.txt'\n",
    ")\n",
    "sentences = r.text.split('\\n')"
   ]
  },
  {
   "cell_type": "code",
   "execution_count": 35,
   "id": "4f7ee9eb",
   "metadata": {},
   "outputs": [],
   "source": [
    "from sklearn.feature_extraction.text import TfidfVectorizer\n",
    "import numpy as np\n",
    "import operator"
   ]
  },
  {
   "cell_type": "code",
   "execution_count": 37,
   "id": "6a7ce9a2",
   "metadata": {},
   "outputs": [
    {
     "name": "stdout",
     "output_type": "stream",
     "text": [
      "['устои', 0.19671514407338786]\n"
     ]
    }
   ],
   "source": [
    "sentences = [sent for sent in sentences if len(sent) > 10]\n",
    "\n",
    "vectorizer = TfidfVectorizer()\n",
    "\n",
    "x = vectorizer.fit_transform(sentences)\n",
    "\n",
    "feature_index = x[0,:].nonzero()[1]\n",
    "tfidf_scores = zip(feature_index, [x[0, i] for i in feature_index])\n",
    "rate = []\n",
    "for w, s in [(vectorizer.get_feature_names()[i], s) for (i, s) in tfidf_scores]:\n",
    "    rate.append([w, s])\n",
    "sortRate  = sorted(rate, key = operator.itemgetter(1,0))\n",
    "print(sortRate[-1])"
   ]
  },
  {
   "cell_type": "markdown",
   "id": "3a20fb6d",
   "metadata": {},
   "source": [
    "# Задание 3\n",
    "Токенизируйте текст Анны Карениной с помощью библиотеки раздел, привидите все к нижнему регистру. Рассчитайте статистики биграммов и униграммов. Найдите наиболее вероятное продолжение \"красный ...\". Вставьте наиболее веротяное следующее слово в форму."
   ]
  },
  {
   "cell_type": "code",
   "execution_count": 77,
   "id": "6b931453",
   "metadata": {},
   "outputs": [],
   "source": [
    "import razdel\n",
    "import gensim\n",
    "from collections import Counter\n",
    "from razdel import tokenize"
   ]
  },
  {
   "cell_type": "code",
   "execution_count": 88,
   "id": "eac026d6",
   "metadata": {},
   "outputs": [
    {
     "data": {
      "text/plain": [
       "Counter({('красный', 'мешочек'): 5,\n",
       "         ('красный', 'огонь'): 1,\n",
       "         ('красный', ','): 2,\n",
       "         ('красный', 'платок'): 1,\n",
       "         ('красный', '.'): 1})"
      ]
     },
     "execution_count": 88,
     "metadata": {},
     "output_type": "execute_result"
    }
   ],
   "source": [
    "a = []\n",
    "for sentence in sentences:\n",
    "    tokens = list(tokenize(sentence))\n",
    "    a.append([_.text.lower() for _ in tokens])\n",
    "\n",
    "from nltk import word_tokenize \n",
    "from nltk.util import ngrams\n",
    "\n",
    "bigram_list = []\n",
    "\n",
    "for i in a:\n",
    "    bigram = list(ngrams(i, 2))\n",
    "    bigram_list.append(bigram)\n",
    "    \n",
    "bigram_list\n",
    "\n",
    "bigram_list_flat = []\n",
    "\n",
    "for i in bigram_list:\n",
    "    for j in i:\n",
    "        if j[0] == 'красный':\n",
    "            bigram_list_flat.append(j)\n",
    "\n",
    "Counter(bigram_list_flat)"
   ]
  },
  {
   "cell_type": "markdown",
   "id": "95e91212",
   "metadata": {},
   "source": [
    "# Задание 4\n",
    "Расчитайте ненормализованное растояние Дамерау-Левенштейна и ненормализованное растояние Левенштейна между этими словами (каждое с каждым), найдите пару слов, для которых эти расстояния отличаются. Вставьте эти слова в форму"
   ]
  },
  {
   "cell_type": "code",
   "execution_count": 56,
   "id": "a33a6a47",
   "metadata": {},
   "outputs": [],
   "source": [
    "words = [\"решение\",\"ршеение\",\"ренешик\",\"рещиние\",\"ришение\"]"
   ]
  },
  {
   "cell_type": "code",
   "execution_count": 58,
   "id": "b60cde7e",
   "metadata": {},
   "outputs": [],
   "source": [
    "import textdistance"
   ]
  },
  {
   "cell_type": "code",
   "execution_count": 61,
   "id": "e2d3727c",
   "metadata": {},
   "outputs": [],
   "source": [
    "def distance(a, b):\n",
    "    \"Calculates the Levenshtein distance between a and b.\"\n",
    "    n, m = len(a), len(b)\n",
    "    if n > m:\n",
    "        # Make sure n <= m, to use O(min(n, m)) space\n",
    "        a, b = b, a\n",
    "        n, m = m, n\n",
    "\n",
    "    current_row = range(n + 1)  # Keep current and previous row, not entire matrix\n",
    "    for i in range(1, m + 1):\n",
    "        previous_row, current_row = current_row, [i] + [0] * n\n",
    "        for j in range(1, n + 1):\n",
    "            add, delete, change = previous_row[j] + 1, current_row[j - 1] + 1, previous_row[j - 1]\n",
    "            if a[j - 1] != b[i - 1]:\n",
    "                change += 1\n",
    "            current_row[j] = min(add, delete, change)\n",
    "\n",
    "    return current_row[n]"
   ]
  },
  {
   "cell_type": "code",
   "execution_count": 62,
   "id": "4f891cc6",
   "metadata": {},
   "outputs": [],
   "source": [
    "def get_closest_match_with_metric(text, lookup,topn=20, metric=textdistance.levenshtein):\n",
    "    # Counter можно использовать и с не целыми числами\n",
    "    similarities = Counter()\n",
    "    \n",
    "    for word in lookup:\n",
    "        similarities[word] = metric.similarity(text, word) \n",
    "    \n",
    "    return similarities.most_common(topn)"
   ]
  },
  {
   "cell_type": "code",
   "execution_count": 63,
   "id": "8a827a8b",
   "metadata": {},
   "outputs": [
    {
     "data": {
      "text/plain": [
       "2"
      ]
     },
     "execution_count": 63,
     "metadata": {},
     "output_type": "execute_result"
    }
   ],
   "source": [
    "distance(\"решение\", \"ршеение\")"
   ]
  },
  {
   "cell_type": "code",
   "execution_count": 64,
   "id": "57b6a67f",
   "metadata": {},
   "outputs": [
    {
     "data": {
      "text/plain": [
       "3"
      ]
     },
     "execution_count": 64,
     "metadata": {},
     "output_type": "execute_result"
    }
   ],
   "source": [
    "distance(\"решение\", \"ренешик\")"
   ]
  },
  {
   "cell_type": "code",
   "execution_count": 65,
   "id": "bb203cea",
   "metadata": {},
   "outputs": [
    {
     "data": {
      "text/plain": [
       "2"
      ]
     },
     "execution_count": 65,
     "metadata": {},
     "output_type": "execute_result"
    }
   ],
   "source": [
    "distance(\"решение\", \"рещиние\")"
   ]
  },
  {
   "cell_type": "code",
   "execution_count": 66,
   "id": "f71cbb5a",
   "metadata": {},
   "outputs": [
    {
     "data": {
      "text/plain": [
       "1"
      ]
     },
     "execution_count": 66,
     "metadata": {},
     "output_type": "execute_result"
    }
   ],
   "source": [
    "distance(\"решение\", \"ришение\")"
   ]
  },
  {
   "cell_type": "markdown",
   "id": "b1bb3380",
   "metadata": {},
   "source": [
    "# Задание 5\n",
    "Загрузите токенизатор distilbert-base-uncased из huggingface. Токенизируйте предложения из Анны Карениной с помощью предобученного токенизатора и обучите Fastext модель со следующими параметрами: cbow, размер вектора 300, размер окна 5, минимальный размер символьного нграмма - 2, максимальный размер символьного нграмма - 7. Найдите ближайшее слово к слову \"каренина\", вставьте его в форму."
   ]
  },
  {
   "cell_type": "code",
   "execution_count": 75,
   "id": "f68c6e29",
   "metadata": {},
   "outputs": [
    {
     "name": "stdout",
     "output_type": "stream",
     "text": [
      "Collecting fasttext\n",
      "  Downloading fasttext-0.9.2.tar.gz (68 kB)\n",
      "\u001b[2K     \u001b[90m━━━━━━━━━━━━━━━━━━━━━━━━━━━━━━━━━━━━━━━\u001b[0m \u001b[32m68.8/68.8 kB\u001b[0m \u001b[31m321.9 kB/s\u001b[0m eta \u001b[36m0:00:00\u001b[0ma \u001b[36m0:00:01\u001b[0m\n",
      "\u001b[?25h  Preparing metadata (setup.py) ... \u001b[?25ldone\n",
      "\u001b[?25hCollecting pybind11>=2.2\n",
      "  Using cached pybind11-2.9.2-py2.py3-none-any.whl (213 kB)\n",
      "Requirement already satisfied: setuptools>=0.7.0 in ./opt/anaconda3/lib/python3.8/site-packages (from fasttext) (52.0.0.post20210125)\n",
      "Requirement already satisfied: numpy in ./opt/anaconda3/lib/python3.8/site-packages (from fasttext) (1.20.1)\n",
      "Building wheels for collected packages: fasttext\n",
      "  Building wheel for fasttext (setup.py) ... \u001b[?25lerror\n",
      "  \u001b[1;31merror\u001b[0m: \u001b[1msubprocess-exited-with-error\u001b[0m\n",
      "  \n",
      "  \u001b[31m×\u001b[0m \u001b[32mpython setup.py bdist_wheel\u001b[0m did not run successfully.\n",
      "  \u001b[31m│\u001b[0m exit code: \u001b[1;36m1\u001b[0m\n",
      "  \u001b[31m╰─>\u001b[0m \u001b[31m[59 lines of output]\u001b[0m\n",
      "  \u001b[31m   \u001b[0m running bdist_wheel\n",
      "  \u001b[31m   \u001b[0m running build\n",
      "  \u001b[31m   \u001b[0m running build_py\n",
      "  \u001b[31m   \u001b[0m creating build\n",
      "  \u001b[31m   \u001b[0m creating build/lib.macosx-10.9-x86_64-3.8\n",
      "  \u001b[31m   \u001b[0m creating build/lib.macosx-10.9-x86_64-3.8/fasttext\n",
      "  \u001b[31m   \u001b[0m copying python/fasttext_module/fasttext/__init__.py -> build/lib.macosx-10.9-x86_64-3.8/fasttext\n",
      "  \u001b[31m   \u001b[0m copying python/fasttext_module/fasttext/FastText.py -> build/lib.macosx-10.9-x86_64-3.8/fasttext\n",
      "  \u001b[31m   \u001b[0m creating build/lib.macosx-10.9-x86_64-3.8/fasttext/util\n",
      "  \u001b[31m   \u001b[0m copying python/fasttext_module/fasttext/util/util.py -> build/lib.macosx-10.9-x86_64-3.8/fasttext/util\n",
      "  \u001b[31m   \u001b[0m copying python/fasttext_module/fasttext/util/__init__.py -> build/lib.macosx-10.9-x86_64-3.8/fasttext/util\n",
      "  \u001b[31m   \u001b[0m creating build/lib.macosx-10.9-x86_64-3.8/fasttext/tests\n",
      "  \u001b[31m   \u001b[0m copying python/fasttext_module/fasttext/tests/test_script.py -> build/lib.macosx-10.9-x86_64-3.8/fasttext/tests\n",
      "  \u001b[31m   \u001b[0m copying python/fasttext_module/fasttext/tests/__init__.py -> build/lib.macosx-10.9-x86_64-3.8/fasttext/tests\n",
      "  \u001b[31m   \u001b[0m copying python/fasttext_module/fasttext/tests/test_configurations.py -> build/lib.macosx-10.9-x86_64-3.8/fasttext/tests\n",
      "  \u001b[31m   \u001b[0m running build_ext\n",
      "  \u001b[31m   \u001b[0m creating var\n",
      "  \u001b[31m   \u001b[0m creating var/folders\n",
      "  \u001b[31m   \u001b[0m creating var/folders/zl\n",
      "  \u001b[31m   \u001b[0m creating var/folders/zl/xlcn1g595f3__5fhl9qg9z1m0000gn\n",
      "  \u001b[31m   \u001b[0m creating var/folders/zl/xlcn1g595f3__5fhl9qg9z1m0000gn/T\n",
      "  \u001b[31m   \u001b[0m gcc -Wno-unused-result -Wsign-compare -Wunreachable-code -DNDEBUG -g -fwrapv -O3 -Wall -Wstrict-prototypes -I/Users/anna/opt/anaconda3/include -arch x86_64 -I/Users/anna/opt/anaconda3/include -arch x86_64 -I/Users/anna/opt/anaconda3/include/python3.8 -c /var/folders/zl/xlcn1g595f3__5fhl9qg9z1m0000gn/T/tmpglq777t_.cpp -o var/folders/zl/xlcn1g595f3__5fhl9qg9z1m0000gn/T/tmpglq777t_.o -stdlib=libc++\n",
      "  \u001b[31m   \u001b[0m xcode-select: note: no developer tools were found at '/Applications/Xcode.app', requesting install. Choose an option in the dialog to download the command line developer tools.\n",
      "  \u001b[31m   \u001b[0m gcc -Wno-unused-result -Wsign-compare -Wunreachable-code -DNDEBUG -g -fwrapv -O3 -Wall -Wstrict-prototypes -I/Users/anna/opt/anaconda3/include -arch x86_64 -I/Users/anna/opt/anaconda3/include -arch x86_64 -I/Users/anna/opt/anaconda3/include/python3.8 -c /var/folders/zl/xlcn1g595f3__5fhl9qg9z1m0000gn/T/tmpxbx6w0cm.cpp -o var/folders/zl/xlcn1g595f3__5fhl9qg9z1m0000gn/T/tmpxbx6w0cm.o -stdlib=libc++ -mmacosx-version-min=10.7\n",
      "  \u001b[31m   \u001b[0m xcode-select: note: no developer tools were found at '/Applications/Xcode.app', requesting install. Choose an option in the dialog to download the command line developer tools.\n",
      "  \u001b[31m   \u001b[0m Traceback (most recent call last):\n",
      "  \u001b[31m   \u001b[0m   File \"<string>\", line 2, in <module>\n",
      "  \u001b[31m   \u001b[0m   File \"<pip-setuptools-caller>\", line 34, in <module>\n",
      "  \u001b[31m   \u001b[0m   File \"/private/var/folders/zl/xlcn1g595f3__5fhl9qg9z1m0000gn/T/pip-install-kkvo50j6/fasttext_09e2e5ae77a34b29907ee996f8606a24/setup.py\", line 168, in <module>\n",
      "  \u001b[31m   \u001b[0m     setup(\n",
      "  \u001b[31m   \u001b[0m   File \"/Users/anna/opt/anaconda3/lib/python3.8/site-packages/setuptools/__init__.py\", line 153, in setup\n",
      "  \u001b[31m   \u001b[0m     return distutils.core.setup(**attrs)\n",
      "  \u001b[31m   \u001b[0m   File \"/Users/anna/opt/anaconda3/lib/python3.8/distutils/core.py\", line 148, in setup\n",
      "  \u001b[31m   \u001b[0m     dist.run_commands()\n",
      "  \u001b[31m   \u001b[0m   File \"/Users/anna/opt/anaconda3/lib/python3.8/distutils/dist.py\", line 966, in run_commands\n",
      "  \u001b[31m   \u001b[0m     self.run_command(cmd)\n",
      "  \u001b[31m   \u001b[0m   File \"/Users/anna/opt/anaconda3/lib/python3.8/distutils/dist.py\", line 985, in run_command\n",
      "  \u001b[31m   \u001b[0m     cmd_obj.run()\n",
      "  \u001b[31m   \u001b[0m   File \"/Users/anna/opt/anaconda3/lib/python3.8/site-packages/wheel/bdist_wheel.py\", line 299, in run\n",
      "  \u001b[31m   \u001b[0m     self.run_command('build')\n",
      "  \u001b[31m   \u001b[0m   File \"/Users/anna/opt/anaconda3/lib/python3.8/distutils/cmd.py\", line 313, in run_command\n",
      "  \u001b[31m   \u001b[0m     self.distribution.run_command(command)\n",
      "  \u001b[31m   \u001b[0m   File \"/Users/anna/opt/anaconda3/lib/python3.8/distutils/dist.py\", line 985, in run_command\n",
      "  \u001b[31m   \u001b[0m     cmd_obj.run()\n",
      "  \u001b[31m   \u001b[0m   File \"/Users/anna/opt/anaconda3/lib/python3.8/distutils/command/build.py\", line 135, in run\n",
      "  \u001b[31m   \u001b[0m     self.run_command(cmd_name)\n",
      "  \u001b[31m   \u001b[0m   File \"/Users/anna/opt/anaconda3/lib/python3.8/distutils/cmd.py\", line 313, in run_command\n",
      "  \u001b[31m   \u001b[0m     self.distribution.run_command(command)\n",
      "  \u001b[31m   \u001b[0m   File \"/Users/anna/opt/anaconda3/lib/python3.8/distutils/dist.py\", line 985, in run_command\n",
      "  \u001b[31m   \u001b[0m     cmd_obj.run()\n",
      "  \u001b[31m   \u001b[0m   File \"/Users/anna/opt/anaconda3/lib/python3.8/site-packages/setuptools/command/build_ext.py\", line 79, in run\n",
      "  \u001b[31m   \u001b[0m     _build_ext.run(self)\n",
      "  \u001b[31m   \u001b[0m   File \"/Users/anna/opt/anaconda3/lib/python3.8/site-packages/Cython/Distutils/old_build_ext.py\", line 186, in run\n",
      "  \u001b[31m   \u001b[0m     _build_ext.build_ext.run(self)\n",
      "  \u001b[31m   \u001b[0m   File \"/Users/anna/opt/anaconda3/lib/python3.8/distutils/command/build_ext.py\", line 340, in run\n",
      "  \u001b[31m   \u001b[0m     self.build_extensions()\n",
      "  \u001b[31m   \u001b[0m   File \"/private/var/folders/zl/xlcn1g595f3__5fhl9qg9z1m0000gn/T/pip-install-kkvo50j6/fasttext_09e2e5ae77a34b29907ee996f8606a24/setup.py\", line 131, in build_extensions\n",
      "  \u001b[31m   \u001b[0m     raise RuntimeError(\n",
      "  \u001b[31m   \u001b[0m RuntimeError: libc++ is needed! Failed to compile with -stdlib=libc++ -mmacosx-version-min=10.7 and -stdlib=libc++.\n",
      "  \u001b[31m   \u001b[0m \u001b[31m[end of output]\u001b[0m\n",
      "  \n",
      "  \u001b[1;35mnote\u001b[0m: This error originates from a subprocess, and is likely not a problem with pip.\n",
      "\u001b[31m  ERROR: Failed building wheel for fasttext\u001b[0m\u001b[31m\n",
      "\u001b[0m\u001b[?25h  Running setup.py clean for fasttext\n",
      "Failed to build fasttext\n",
      "Installing collected packages: pybind11, fasttext\n",
      "  Running setup.py install for fasttext ... \u001b[?25lerror\n",
      "  \u001b[1;31merror\u001b[0m: \u001b[1msubprocess-exited-with-error\u001b[0m\n",
      "  \n",
      "  \u001b[31m×\u001b[0m \u001b[32mRunning setup.py install for fasttext\u001b[0m did not run successfully.\n",
      "  \u001b[31m│\u001b[0m exit code: \u001b[1;36m1\u001b[0m\n",
      "  \u001b[31m╰─>\u001b[0m \u001b[31m[56 lines of output]\u001b[0m\n",
      "  \u001b[31m   \u001b[0m running install\n",
      "  \u001b[31m   \u001b[0m running build\n",
      "  \u001b[31m   \u001b[0m running build_py\n",
      "  \u001b[31m   \u001b[0m creating build\n",
      "  \u001b[31m   \u001b[0m creating build/lib.macosx-10.9-x86_64-3.8\n",
      "  \u001b[31m   \u001b[0m creating build/lib.macosx-10.9-x86_64-3.8/fasttext\n",
      "  \u001b[31m   \u001b[0m copying python/fasttext_module/fasttext/__init__.py -> build/lib.macosx-10.9-x86_64-3.8/fasttext\n",
      "  \u001b[31m   \u001b[0m copying python/fasttext_module/fasttext/FastText.py -> build/lib.macosx-10.9-x86_64-3.8/fasttext\n",
      "  \u001b[31m   \u001b[0m creating build/lib.macosx-10.9-x86_64-3.8/fasttext/util\n",
      "  \u001b[31m   \u001b[0m copying python/fasttext_module/fasttext/util/util.py -> build/lib.macosx-10.9-x86_64-3.8/fasttext/util\n",
      "  \u001b[31m   \u001b[0m copying python/fasttext_module/fasttext/util/__init__.py -> build/lib.macosx-10.9-x86_64-3.8/fasttext/util\n",
      "  \u001b[31m   \u001b[0m creating build/lib.macosx-10.9-x86_64-3.8/fasttext/tests\n",
      "  \u001b[31m   \u001b[0m copying python/fasttext_module/fasttext/tests/test_script.py -> build/lib.macosx-10.9-x86_64-3.8/fasttext/tests\n",
      "  \u001b[31m   \u001b[0m copying python/fasttext_module/fasttext/tests/__init__.py -> build/lib.macosx-10.9-x86_64-3.8/fasttext/tests\n",
      "  \u001b[31m   \u001b[0m copying python/fasttext_module/fasttext/tests/test_configurations.py -> build/lib.macosx-10.9-x86_64-3.8/fasttext/tests\n",
      "  \u001b[31m   \u001b[0m running build_ext\n",
      "  \u001b[31m   \u001b[0m gcc -Wno-unused-result -Wsign-compare -Wunreachable-code -DNDEBUG -g -fwrapv -O3 -Wall -Wstrict-prototypes -I/Users/anna/opt/anaconda3/include -arch x86_64 -I/Users/anna/opt/anaconda3/include -arch x86_64 -I/Users/anna/opt/anaconda3/include/python3.8 -c /var/folders/zl/xlcn1g595f3__5fhl9qg9z1m0000gn/T/tmpf9erzzuv.cpp -o var/folders/zl/xlcn1g595f3__5fhl9qg9z1m0000gn/T/tmpf9erzzuv.o -stdlib=libc++\n",
      "  \u001b[31m   \u001b[0m xcode-select: note: no developer tools were found at '/Applications/Xcode.app', requesting install. Choose an option in the dialog to download the command line developer tools.\n",
      "  \u001b[31m   \u001b[0m gcc -Wno-unused-result -Wsign-compare -Wunreachable-code -DNDEBUG -g -fwrapv -O3 -Wall -Wstrict-prototypes -I/Users/anna/opt/anaconda3/include -arch x86_64 -I/Users/anna/opt/anaconda3/include -arch x86_64 -I/Users/anna/opt/anaconda3/include/python3.8 -c /var/folders/zl/xlcn1g595f3__5fhl9qg9z1m0000gn/T/tmp_78dln14.cpp -o var/folders/zl/xlcn1g595f3__5fhl9qg9z1m0000gn/T/tmp_78dln14.o -stdlib=libc++ -mmacosx-version-min=10.7\n",
      "  \u001b[31m   \u001b[0m xcode-select: note: no developer tools were found at '/Applications/Xcode.app', requesting install. Choose an option in the dialog to download the command line developer tools.\n",
      "  \u001b[31m   \u001b[0m Traceback (most recent call last):\n",
      "  \u001b[31m   \u001b[0m   File \"<string>\", line 2, in <module>\n",
      "  \u001b[31m   \u001b[0m   File \"<pip-setuptools-caller>\", line 34, in <module>\n",
      "  \u001b[31m   \u001b[0m   File \"/private/var/folders/zl/xlcn1g595f3__5fhl9qg9z1m0000gn/T/pip-install-kkvo50j6/fasttext_09e2e5ae77a34b29907ee996f8606a24/setup.py\", line 168, in <module>\n",
      "  \u001b[31m   \u001b[0m     setup(\n",
      "  \u001b[31m   \u001b[0m   File \"/Users/anna/opt/anaconda3/lib/python3.8/site-packages/setuptools/__init__.py\", line 153, in setup\n",
      "  \u001b[31m   \u001b[0m     return distutils.core.setup(**attrs)\n",
      "  \u001b[31m   \u001b[0m   File \"/Users/anna/opt/anaconda3/lib/python3.8/distutils/core.py\", line 148, in setup\n",
      "  \u001b[31m   \u001b[0m     dist.run_commands()\n",
      "  \u001b[31m   \u001b[0m   File \"/Users/anna/opt/anaconda3/lib/python3.8/distutils/dist.py\", line 966, in run_commands\n",
      "  \u001b[31m   \u001b[0m     self.run_command(cmd)\n",
      "  \u001b[31m   \u001b[0m   File \"/Users/anna/opt/anaconda3/lib/python3.8/distutils/dist.py\", line 985, in run_command\n",
      "  \u001b[31m   \u001b[0m     cmd_obj.run()\n",
      "  \u001b[31m   \u001b[0m   File \"/Users/anna/opt/anaconda3/lib/python3.8/site-packages/setuptools/command/install.py\", line 61, in run\n",
      "  \u001b[31m   \u001b[0m     return orig.install.run(self)\n",
      "  \u001b[31m   \u001b[0m   File \"/Users/anna/opt/anaconda3/lib/python3.8/distutils/command/install.py\", line 545, in run\n",
      "  \u001b[31m   \u001b[0m     self.run_command('build')\n",
      "  \u001b[31m   \u001b[0m   File \"/Users/anna/opt/anaconda3/lib/python3.8/distutils/cmd.py\", line 313, in run_command\n",
      "  \u001b[31m   \u001b[0m     self.distribution.run_command(command)\n",
      "  \u001b[31m   \u001b[0m   File \"/Users/anna/opt/anaconda3/lib/python3.8/distutils/dist.py\", line 985, in run_command\n",
      "  \u001b[31m   \u001b[0m     cmd_obj.run()\n",
      "  \u001b[31m   \u001b[0m   File \"/Users/anna/opt/anaconda3/lib/python3.8/distutils/command/build.py\", line 135, in run\n",
      "  \u001b[31m   \u001b[0m     self.run_command(cmd_name)\n",
      "  \u001b[31m   \u001b[0m   File \"/Users/anna/opt/anaconda3/lib/python3.8/distutils/cmd.py\", line 313, in run_command\n",
      "  \u001b[31m   \u001b[0m     self.distribution.run_command(command)\n",
      "  \u001b[31m   \u001b[0m   File \"/Users/anna/opt/anaconda3/lib/python3.8/distutils/dist.py\", line 985, in run_command\n",
      "  \u001b[31m   \u001b[0m     cmd_obj.run()\n",
      "  \u001b[31m   \u001b[0m   File \"/Users/anna/opt/anaconda3/lib/python3.8/site-packages/setuptools/command/build_ext.py\", line 79, in run\n",
      "  \u001b[31m   \u001b[0m     _build_ext.run(self)\n",
      "  \u001b[31m   \u001b[0m   File \"/Users/anna/opt/anaconda3/lib/python3.8/site-packages/Cython/Distutils/old_build_ext.py\", line 186, in run\n",
      "  \u001b[31m   \u001b[0m     _build_ext.build_ext.run(self)\n",
      "  \u001b[31m   \u001b[0m   File \"/Users/anna/opt/anaconda3/lib/python3.8/distutils/command/build_ext.py\", line 340, in run\n",
      "  \u001b[31m   \u001b[0m     self.build_extensions()\n",
      "  \u001b[31m   \u001b[0m   File \"/private/var/folders/zl/xlcn1g595f3__5fhl9qg9z1m0000gn/T/pip-install-kkvo50j6/fasttext_09e2e5ae77a34b29907ee996f8606a24/setup.py\", line 131, in build_extensions\n",
      "  \u001b[31m   \u001b[0m     raise RuntimeError(\n",
      "  \u001b[31m   \u001b[0m RuntimeError: libc++ is needed! Failed to compile with -stdlib=libc++ -mmacosx-version-min=10.7 and -stdlib=libc++.\n",
      "  \u001b[31m   \u001b[0m \u001b[31m[end of output]\u001b[0m\n",
      "  \n",
      "  \u001b[1;35mnote\u001b[0m: This error originates from a subprocess, and is likely not a problem with pip.\n",
      "\u001b[1;31merror\u001b[0m: \u001b[1mlegacy-install-failure\u001b[0m\n",
      "\n",
      "\u001b[31m×\u001b[0m Encountered error while trying to install package.\n",
      "\u001b[31m╰─>\u001b[0m fasttext\n",
      "\n",
      "\u001b[1;35mnote\u001b[0m: This is an issue with the package mentioned above, not pip.\n",
      "\u001b[1;36mhint\u001b[0m: See above for output from the failure.\n",
      "\u001b[33mWARNING: There was an error checking the latest version of pip.\u001b[0m\u001b[33m\r\n",
      "\u001b[0m\u001b[?25h"
     ]
    }
   ],
   "source": [
    "!pip install fasttext"
   ]
  },
  {
   "cell_type": "code",
   "execution_count": 86,
   "id": "547ea757",
   "metadata": {},
   "outputs": [
    {
     "name": "stderr",
     "output_type": "stream",
     "text": [
      "Token indices sequence length is longer than the specified maximum sequence length for this model (643 > 512). Running this sequence through the model will result in indexing errors\n"
     ]
    }
   ],
   "source": [
    "from transformers import AutoTokenizer, AutoModelForMaskedLM\n",
    "\n",
    "tokenizer = AutoTokenizer.from_pretrained(\"distilbert-base-uncased\")\n",
    "\n",
    "model = AutoModelForMaskedLM.from_pretrained(\"distilbert-base-uncased\")\n",
    "\n",
    "\n",
    "\n",
    "all_tokens = [tokenizer.tokenize(sent) for sent in sentences] \n",
    "\n",
    "from gensim.models import FastText"
   ]
  },
  {
   "cell_type": "code",
   "execution_count": 87,
   "id": "22aeb28d",
   "metadata": {},
   "outputs": [
    {
     "data": {
      "text/plain": [
       "[('##ка', 0.5655199289321899),\n",
       " ('а', 0.5042127370834351),\n",
       " ('##на', 0.35036689043045044),\n",
       " ('##ович', 0.3317340612411499),\n",
       " ('landau', 0.3216838538646698),\n",
       " ('–', 0.2716900706291199),\n",
       " ('com', 0.2664029002189636),\n",
       " ('pardon', 0.2625886797904968),\n",
       " ('tan', 0.24821031093597412),\n",
       " ('cher', 0.24624980986118317)]"
      ]
     },
     "execution_count": 87,
     "metadata": {},
     "output_type": "execute_result"
    }
   ],
   "source": [
    "model = FastText(sentences=all_tokens, vector_size=300, window=5, min_n=2, max_n=7)\n",
    "\n",
    "model.wv.most_similar('каренина')"
   ]
  },
  {
   "cell_type": "code",
   "execution_count": null,
   "id": "ef81003d",
   "metadata": {},
   "outputs": [],
   "source": []
  }
 ],
 "metadata": {
  "kernelspec": {
   "display_name": "Python 3",
   "language": "python",
   "name": "python3"
  },
  "language_info": {
   "codemirror_mode": {
    "name": "ipython",
    "version": 3
   },
   "file_extension": ".py",
   "mimetype": "text/x-python",
   "name": "python",
   "nbconvert_exporter": "python",
   "pygments_lexer": "ipython3",
   "version": "3.8.8"
  }
 },
 "nbformat": 4,
 "nbformat_minor": 5
}
