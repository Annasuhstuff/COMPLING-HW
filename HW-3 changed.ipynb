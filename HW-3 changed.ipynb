{
 "cells": [
  {
   "cell_type": "code",
   "execution_count": 3,
   "id": "e99c69c1",
   "metadata": {},
   "outputs": [],
   "source": [
    "import os, re\n",
    "from string import punctuation\n",
    "import numpy as np\n",
    "import json\n",
    "from collections import Counter\n",
    "from pprint import pprint\n",
    "from nltk import sent_tokenize\n",
    "punctuation += \"«»—…“”\"\n",
    "punct = set(punctuation)\n",
    "from sklearn.metrics import classification_report, accuracy_score\n",
    "from razdel import sentenize\n",
    "from razdel import tokenize as razdel_tokenize\n",
    "import textdistance\n",
    "from sklearn.feature_extraction.text import CountVectorizer, TfidfVectorizer\n",
    "from sklearn.metrics.pairwise import cosine_similarity, cosine_distances"
   ]
  },
  {
   "cell_type": "code",
   "execution_count": 4,
   "id": "98c31699",
   "metadata": {},
   "outputs": [
    {
     "name": "stdout",
     "output_type": "stream",
     "text": [
      "Requirement already satisfied: textdistance in /Users/anna/opt/anaconda3/lib/python3.8/site-packages (4.2.1)\r\n"
     ]
    }
   ],
   "source": [
    "!pip install textdistance"
   ]
  },
  {
   "cell_type": "code",
   "execution_count": 5,
   "id": "bcacb445",
   "metadata": {},
   "outputs": [],
   "source": [
    "bad = open('sents_with_mistakes.txt', encoding='utf8').read().splitlines()\n",
    "true = open('correct_sents.txt', encoding='utf8').read().splitlines()\n",
    "corpus = open('wiki_data.txt', encoding='utf8').read()"
   ]
  },
  {
   "cell_type": "code",
   "execution_count": 6,
   "id": "9ce11b5f",
   "metadata": {},
   "outputs": [],
   "source": [
    "def get_closest_match_vec(text, X, vec, topn=20):\n",
    "    v = vec.transform([text])\n",
    "    \n",
    "    similarities = cosine_distances(v, X)[0]\n",
    "    topn = similarities.argsort()[:topn] \n",
    "    \n",
    "    return [(id2word[top], similarities[top]) for top in topn]\n",
    "\n",
    "\n",
    "def get_closest_match_with_metric(text, lookup, topn=20, metric=textdistance.levenshtein):\n",
    "    similarities = Counter()\n",
    "    \n",
    "    for word in lookup:\n",
    "        similarities[word] = metric.normalized_similarity(text, word) \n",
    "    \n",
    "    return similarities.most_common(topn)\n",
    "\n",
    "def get_closest_hybrid_match(text, X, vec, topn=10, metric=textdistance.damerau_levenshtein):\n",
    "    candidates = get_closest_match_vec(text, X, vec, topn*4)\n",
    "    lookup = [cand[0] for cand in candidates]\n",
    "    closest = get_closest_match_with_metric(text, lookup, topn, metric=metric)\n",
    "    closest_with_freq = [(word, dist, P(text, N)) for word, dist in closest]\n",
    "    return sorted(closest_with_freq, key=lambda x: (x[1], x[2]), reverse=True)\n",
    "\n",
    "\n",
    "def P(word, N):\n",
    "    return vocab[word] / N\n",
    "\n",
    "def predict_mistaken(word, vocab):\n",
    "    return 0 if word in vocab else 1"
   ]
  },
  {
   "cell_type": "code",
   "execution_count": 7,
   "id": "06034f2a",
   "metadata": {},
   "outputs": [],
   "source": [
    "vocab = Counter(re.findall('\\w+', corpus.lower()))\n",
    "\n",
    "word2id = list(vocab.keys())\n",
    "id2word = {i:word for i, word in enumerate(vocab)}\n",
    "\n",
    "\n",
    "vec = CountVectorizer(analyzer='char', ngram_range=(1,3), max_features=1000)\n",
    "X = vec.fit_transform(vocab)\n",
    "N = sum(vocab.values())"
   ]
  },
  {
   "cell_type": "code",
   "execution_count": 8,
   "id": "652d3df3",
   "metadata": {},
   "outputs": [
    {
     "data": {
      "text/plain": [
       "[('симпатичный', 0.9090909090909091, 0.0),\n",
       " ('симпатичным', 0.8181818181818181, 0.0),\n",
       " ('симпатичные', 0.8181818181818181, 0.0),\n",
       " ('симпатичных', 0.8181818181818181, 0.0),\n",
       " ('симпатичной', 0.8181818181818181, 0.0),\n",
       " ('симпатичная', 0.7272727272727273, 0.0),\n",
       " ('симпатичнее', 0.7272727272727273, 0.0),\n",
       " ('несимпатичных', 0.6923076923076923, 0.0),\n",
       " ('симпатичного', 0.6666666666666667, 0.0),\n",
       " ('драматичный', 0.6363636363636364, 0.0)]"
      ]
     },
     "execution_count": 8,
     "metadata": {},
     "output_type": "execute_result"
    }
   ],
   "source": [
    "get_closest_hybrid_match('импатичный', X, vec)"
   ]
  },
  {
   "cell_type": "code",
   "execution_count": 9,
   "id": "28f9f421",
   "metadata": {},
   "outputs": [
    {
     "data": {
      "text/plain": [
       "[('симпатичный', 0.9090909090909091, 0.0),\n",
       " ('симпатичным', 0.8181818181818181, 0.0),\n",
       " ('симпатичных', 0.8181818181818181, 0.0),\n",
       " ('симпатичные', 0.8181818181818181, 0.0),\n",
       " ('симпатичной', 0.8181818181818181, 0.0),\n",
       " ('симметричный', 0.75, 0.0),\n",
       " ('симпатичнее', 0.7272727272727273, 0.0),\n",
       " ('типичный', 0.7, 0.0),\n",
       " ('семичный', 0.7, 0.0),\n",
       " ('кирпичный', 0.7, 0.0)]"
      ]
     },
     "execution_count": 9,
     "metadata": {},
     "output_type": "execute_result"
    }
   ],
   "source": [
    "get_closest_hybrid_match('симптичный', X, vec)"
   ]
  },
  {
   "cell_type": "code",
   "execution_count": 10,
   "id": "0cdc53f8",
   "metadata": {},
   "outputs": [],
   "source": [
    "def align_words(sent_1, sent_2):\n",
    "    tokens_1 = sent_1.lower().split()\n",
    "    tokens_2 = sent_2.lower().split()\n",
    "    \n",
    "    tokens_1 = [token.strip(punctuation) for token in tokens_1]\n",
    "    tokens_2 = [token.strip(punctuation) for token in tokens_2]\n",
    "    \n",
    "    tokens_1 = [token for token in tokens_1 if token]\n",
    "    tokens_2 = [token for token in tokens_2 if token]\n",
    "    \n",
    "    assert len(tokens_1) == len(tokens_2)\n",
    "    \n",
    "    return list(zip(tokens_1, tokens_2))"
   ]
  },
  {
   "cell_type": "code",
   "execution_count": 11,
   "id": "b2ab1135",
   "metadata": {},
   "outputs": [
    {
     "name": "stdout",
     "output_type": "stream",
     "text": [
      "0\n",
      "100\n",
      "200\n",
      "300\n",
      "400\n",
      "500\n",
      "600\n",
      "700\n",
      "800\n",
      "900\n"
     ]
    }
   ],
   "source": [
    "mistakes = []\n",
    "total_mistaken = 0\n",
    "mistaken_fixed = 0\n",
    "\n",
    "total_correct = 0\n",
    "correct_broken = 0\n",
    "\n",
    "total = 0\n",
    "correct = 0\n",
    "\n",
    "cashed = {}\n",
    "for i in range(len(true)):\n",
    "    word_pairs = align_words(true[i], bad[i])\n",
    "    for pair in word_pairs:\n",
    "        if predict_mistaken(pair[1], vocab):\n",
    "            pred = cashed.get(pair[1], get_closest_hybrid_match(pair[1], X, vec)[0][0])\n",
    "            cashed[pair[1]] = pred\n",
    "        else:\n",
    "            pred = pair[1]\n",
    "        \n",
    "            \n",
    "        if pred == pair[0]:\n",
    "            correct += 1\n",
    "        else:\n",
    "            mistakes.append((pair[0], pair[1], pred))\n",
    "        total += 1\n",
    "            \n",
    "        if pair[0] == pair[1]:\n",
    "            total_correct += 1\n",
    "            if pair[0] != pred:\n",
    "                correct_broken += 1\n",
    "        else:\n",
    "            total_mistaken += 1\n",
    "            if pair[0] == pred:\n",
    "                mistaken_fixed += 1\n",
    "    \n",
    "    if not i % 100:\n",
    "        print(i)\n"
   ]
  },
  {
   "cell_type": "code",
   "execution_count": 12,
   "id": "5697f051",
   "metadata": {},
   "outputs": [
    {
     "name": "stdout",
     "output_type": "stream",
     "text": [
      "0.8536268134067033\n",
      "0.47282608695652173\n",
      "0.09004249454461927\n"
     ]
    }
   ],
   "source": [
    "print(correct/total)\n",
    "print(mistaken_fixed/total_mistaken)\n",
    "print(correct_broken/total_correct)"
   ]
  },
  {
   "cell_type": "markdown",
   "id": "c9b26ae1",
   "metadata": {},
   "source": [
    "Сравним с тем, что было:"
   ]
  },
  {
   "cell_type": "markdown",
   "id": "f08f9023",
   "metadata": {},
   "source": [
    "0.8527263631815908\n",
    "0.4658385093167702\n",
    "0.09004249454461927"
   ]
  },
  {
   "cell_type": "markdown",
   "id": "0af8260b",
   "metadata": {},
   "source": [
    "Вывод: стало чуть лучше"
   ]
  },
  {
   "cell_type": "markdown",
   "id": "29c5e96c",
   "metadata": {},
   "source": [
    "2 задание"
   ]
  },
  {
   "cell_type": "code",
   "execution_count": 25,
   "id": "c084c6ac",
   "metadata": {},
   "outputs": [],
   "source": [
    "correct_words = list(vocab.keys())"
   ]
  },
  {
   "cell_type": "code",
   "execution_count": 26,
   "id": "727f2572",
   "metadata": {},
   "outputs": [],
   "source": [
    "WORDS = [i for i in vocab]\n",
    "\n",
    "vocab = Counter(re.findall('\\w+', corpus.lower()))\n",
    "\n",
    "word2id = list(vocab.keys())\n",
    "id2word = {i:word for i, word in enumerate(vocab)}\n",
    "\n",
    "\n",
    "vec = CountVectorizer(analyzer='char', ngram_range=(1,3), max_features=1000)\n",
    "X = vec.fit_transform(vocab)\n",
    "N = sum(vocab.values())"
   ]
  },
  {
   "cell_type": "code",
   "execution_count": 27,
   "id": "7a934af5",
   "metadata": {},
   "outputs": [],
   "source": [
    "del_vocab = {}\n",
    "\n",
    "for word in WORDS:\n",
    "    splits = [(word[:i], word[i:]) for i in range(len(word) + 1)]\n",
    "    delets = [L + R[1:] for L, R in splits if R]\n",
    "    for d in set(delets):\n",
    "        if d in del_vocab:\n",
    "            del_vocab[d].append(word)\n",
    "        else:\n",
    "            del_vocab[d] = [word]"
   ]
  },
  {
   "cell_type": "code",
   "execution_count": 28,
   "id": "f77ef8a0",
   "metadata": {},
   "outputs": [],
   "source": [
    "def top_proba(words):\n",
    "    return max(words, key=P)\n",
    "\n",
    "def correction(word):\n",
    "    if word in WORDS:\n",
    "        return word\n",
    "    elif word in del_vocab:\n",
    "        return top_proba(del_vocab[word])\n",
    "    else:\n",
    "        splits = [(word[:i], word[i:]) for i in range(len(word) + 1)]\n",
    "        delets = [L + R[1:] for L, R in splits if R]\n",
    "        options = []\n",
    "        for d in set(delets):\n",
    "            if d in del_vocab:\n",
    "                options += del_vocab[d]\n",
    "        if len(options) > 0:\n",
    "            return top_proba(options)\n",
    "        else:\n",
    "            return word"
   ]
  },
  {
   "cell_type": "code",
   "execution_count": 47,
   "id": "87c2841d",
   "metadata": {},
   "outputs": [
    {
     "name": "stdout",
     "output_type": "stream",
     "text": [
      "0\n",
      "100\n",
      "200\n",
      "300\n",
      "400\n",
      "500\n",
      "600\n",
      "700\n",
      "800\n",
      "900\n"
     ]
    }
   ],
   "source": [
    "mistakes = []\n",
    "total_mistaken = 0\n",
    "mistaken_fixed = 0\n",
    "\n",
    "total_correct = 0\n",
    "correct_broken = 0\n",
    "\n",
    "total = 0\n",
    "correct = 0\n",
    "\n",
    "cashed = {}\n",
    "for i in range(len(true)):\n",
    "    word_pairs = align_words(true[i], bad[i])\n",
    "    for pair in word_pairs:\n",
    "        \n",
    "        predicted = cashed.get(pair[1], correction(pair[1]))\n",
    "        cashed[pair[1]] = predicted\n",
    "        \n",
    "        if predicted == pair[0]:\n",
    "            correct += 1\n",
    "        total += 1\n",
    "        \n",
    "        if pair[0] == pair[1]:\n",
    "            total_correct += 1\n",
    "            if pair[0] !=  predicted:\n",
    "                correct_broken += 1\n",
    "        else:\n",
    "            total_mistaken += 1\n",
    "            if pair[0] == predicted:\n",
    "                mistaken_fixed += 1\n",
    "        \n",
    "    if not i % 100:\n",
    "        print(i)"
   ]
  },
  {
   "cell_type": "code",
   "execution_count": 48,
   "id": "69311217",
   "metadata": {},
   "outputs": [
    {
     "name": "stdout",
     "output_type": "stream",
     "text": [
      "0.8726363181590795\n",
      "0.3423913043478261\n",
      "0.04892615137245894\n"
     ]
    }
   ],
   "source": [
    "print(correct/total)\n",
    "print(mistaken_fixed/total_mistaken)\n",
    "print(correct_broken/total_correct)"
   ]
  },
  {
   "cell_type": "markdown",
   "id": "c970b6ec",
   "metadata": {},
   "source": [
    "# 3 Задание"
   ]
  },
  {
   "attachments": {
    "IMAGE.jpg": {
     "image/jpeg": "[encoded data removed]"
    }
   },
   "cell_type": "markdown",
   "id": "b61450fc",
   "metadata": {},
   "source": [
    "![IMAGE.jpg](attachment:IMAGE.jpg)"
   ]
  },
  {
   "cell_type": "code",
   "execution_count": 35,
   "id": "be3a4679",
   "metadata": {},
   "outputs": [],
   "source": [
    "def get_metrics(func, *args, **kwargs):\n",
    "    mistakes = []\n",
    "    total_mistaken = 0\n",
    "    mistaken_fixed = 0\n",
    "\n",
    "    total_correct = 0\n",
    "    correct_broken = 0\n",
    "\n",
    "    total = 0\n",
    "    correct = 0\n",
    "\n",
    "    cashed = {}\n",
    "    for i in range(len(true)):\n",
    "        word_pairs = align_words(true[i], bad[i])\n",
    "        for pair in word_pairs:\n",
    "            if predict_mistaken(pair[1], vocab):\n",
    "                pred = cashed.get(pair[1], func(pair[1], X, vec, *args, **kwargs)[0][0])\n",
    "                cashed[pair[1]] = pred\n",
    "            else:\n",
    "                pred = pair[1]\n",
    "\n",
    "\n",
    "            if pred == pair[0]:\n",
    "                correct += 1\n",
    "            else:\n",
    "                mistakes.append((pair[0], pair[1], pred))\n",
    "            total += 1\n",
    "\n",
    "            if pair[0] == pair[1]:\n",
    "                total_correct += 1\n",
    "                if pair[0] != pred:\n",
    "                    correct_broken += 1\n",
    "            else:\n",
    "                total_mistaken += 1\n",
    "                if pair[0] == pred:\n",
    "                    mistaken_fixed += 1\n",
    "\n",
    "        if not i % 100:\n",
    "            print(i)\n",
    "    return correct / total, mistaken_fixed / total_mistaken, correct_broken / total_correct"
   ]
  },
  {
   "cell_type": "code",
   "execution_count": 36,
   "id": "e4349e5f",
   "metadata": {},
   "outputs": [],
   "source": [
    "vocab = Counter(re.findall('\\w+', corpus.lower()))\n",
    "\n",
    "word2id = list(vocab.keys())\n",
    "id2word = {i:word for i, word in enumerate(vocab)}\n",
    "\n",
    "\n",
    "vec = CountVectorizer(analyzer='char', ngram_range=(1,3), max_features=1000)\n",
    "X = vec.fit_transform(vocab)"
   ]
  },
  {
   "cell_type": "markdown",
   "id": "06dc4645",
   "metadata": {},
   "source": [
    "1) Что там по стандартным параметрам?"
   ]
  },
  {
   "cell_type": "code",
   "execution_count": 54,
   "id": "df0d25fa",
   "metadata": {},
   "outputs": [
    {
     "name": "stdout",
     "output_type": "stream",
     "text": [
      "0\n",
      "100\n",
      "200\n",
      "300\n",
      "400\n",
      "500\n",
      "600\n",
      "700\n",
      "800\n",
      "900\n",
      "correct/total: 0.8542271135567784\n",
      "mistaken_fixed/total_mistaken: 0.47748447204968947\n",
      "correct_broken/total_correct: 0.09004249454461927\n"
     ]
    }
   ],
   "source": [
    "res = get_metrics(get_closest_hybrid_match)"
   ]
  },
  {
   "cell_type": "code",
   "execution_count": 65,
   "id": "f0447aeb",
   "metadata": {},
   "outputs": [
    {
     "name": "stdout",
     "output_type": "stream",
     "text": [
      "correct/total: 0.8542271135567784\n",
      "mistaken_fixed/total_mistaken: 0.47748447204968947\n",
      "correct_broken/total_correct: 0.09004249454461927\n",
      "CPU times: user 1.09 ms, sys: 1.36 ms, total: 2.45 ms\n",
      "Wall time: 5.43 ms\n"
     ]
    }
   ],
   "source": [
    "%%time\n",
    "\n",
    "print(f\"correct/total: {(res[0])}\")\n",
    "print(f\"mistaken_fixed/total_mistaken: {(res[1])}\")\n",
    "print(f\"correct_broken/total_correct: {(res[2])}\")"
   ]
  },
  {
   "cell_type": "markdown",
   "id": "80214512",
   "metadata": {},
   "source": [
    "2) Попробую поменять макс фичерс!"
   ]
  },
  {
   "cell_type": "code",
   "execution_count": 62,
   "id": "12746128",
   "metadata": {},
   "outputs": [
    {
     "name": "stdout",
     "output_type": "stream",
     "text": [
      "0\n",
      "100\n",
      "200\n",
      "300\n",
      "400\n",
      "500\n",
      "600\n",
      "700\n",
      "800\n",
      "900\n"
     ]
    }
   ],
   "source": [
    "vec = CountVectorizer(analyzer='char', ngram_range=(1,3), max_features=2000)\n",
    "X = vec.fit_transform(vocab)\n",
    "\n",
    "res = get_metrics(get_closest_hybrid_match)"
   ]
  },
  {
   "cell_type": "code",
   "execution_count": 63,
   "id": "bd845f91",
   "metadata": {},
   "outputs": [
    {
     "name": "stdout",
     "output_type": "stream",
     "text": [
      "correct/total: 0.8542271135567784\n",
      "mistaken_fixed/total_mistaken: 0.47748447204968947\n",
      "correct_broken/total_correct: 0.09004249454461927\n",
      "CPU times: user 307 µs, sys: 151 µs, total: 458 µs\n",
      "Wall time: 351 µs\n"
     ]
    }
   ],
   "source": [
    "%%time\n",
    "\n",
    "print(f\"correct/total: {(res[0])}\")\n",
    "print(f\"mistaken_fixed/total_mistaken: {(res[1])}\")\n",
    "print(f\"correct_broken/total_correct: {(res[2])}\")"
   ]
  },
  {
   "cell_type": "markdown",
   "id": "94192a30",
   "metadata": {},
   "source": [
    "3) Ничего не измнилось, а если понизить?"
   ]
  },
  {
   "cell_type": "code",
   "execution_count": 46,
   "id": "9ddc33e6",
   "metadata": {},
   "outputs": [
    {
     "name": "stdout",
     "output_type": "stream",
     "text": [
      "0\n",
      "100\n",
      "200\n",
      "300\n",
      "400\n",
      "500\n",
      "600\n",
      "700\n",
      "800\n",
      "900\n"
     ]
    }
   ],
   "source": [
    "vec = CountVectorizer(analyzer='char', ngram_range=(1,3), max_features=800)\n",
    "X = vec.fit_transform(vocab)\n",
    "\n",
    "res = get_metrics(get_closest_hybrid_match)"
   ]
  },
  {
   "cell_type": "code",
   "execution_count": 47,
   "id": "ec56d46f",
   "metadata": {},
   "outputs": [
    {
     "name": "stdout",
     "output_type": "stream",
     "text": [
      "correct/total: 0.8546273136568284\n",
      "mistaken_fixed/total_mistaken: 0.4805900621118012\n",
      "correct_broken/total_correct: 0.09004249454461927\n",
      "CPU times: user 499 µs, sys: 147 µs, total: 646 µs\n",
      "Wall time: 1.09 ms\n"
     ]
    }
   ],
   "source": [
    "%%time\n",
    "\n",
    "print(f\"correct/total: {(res[0])}\")\n",
    "print(f\"mistaken_fixed/total_mistaken: {(res[1])}\")\n",
    "print(f\"correct_broken/total_correct: {(res[2])}\")"
   ]
  },
  {
   "cell_type": "markdown",
   "id": "f7c90522",
   "metadata": {},
   "source": [
    "4) Результат улучшился, а если сильно повысить?"
   ]
  },
  {
   "cell_type": "code",
   "execution_count": 48,
   "id": "143ee0f5",
   "metadata": {
    "scrolled": true
   },
   "outputs": [
    {
     "name": "stdout",
     "output_type": "stream",
     "text": [
      "0\n",
      "100\n",
      "200\n",
      "300\n",
      "400\n",
      "500\n",
      "600\n",
      "700\n",
      "800\n",
      "900\n"
     ]
    }
   ],
   "source": [
    "vec = CountVectorizer(analyzer='char', ngram_range=(1,3), max_features=4000)\n",
    "X = vec.fit_transform(vocab)\n",
    "\n",
    "res = get_metrics(get_closest_hybrid_match)\n"
   ]
  },
  {
   "cell_type": "code",
   "execution_count": 50,
   "id": "c30a4117",
   "metadata": {},
   "outputs": [
    {
     "name": "stdout",
     "output_type": "stream",
     "text": [
      "correct/total: 0.8548274137068534\n",
      "mistaken_fixed/total_mistaken: 0.48214285714285715\n",
      "correct_broken/total_correct: 0.09004249454461927\n",
      "CPU times: user 2.72 ms, sys: 2.19 ms, total: 4.91 ms\n",
      "Wall time: 11.3 ms\n"
     ]
    }
   ],
   "source": [
    "%%time\n",
    "\n",
    "print(f\"correct/total: {(res[0])}\")\n",
    "print(f\"mistaken_fixed/total_mistaken: {(res[1])}\")\n",
    "print(f\"correct_broken/total_correct: {(res[2])}\")"
   ]
  },
  {
   "cell_type": "markdown",
   "id": "a236f046",
   "metadata": {},
   "source": [
    "5) Результат стал лучше, но время увеличилось примерно в 10 раз!"
   ]
  },
  {
   "cell_type": "markdown",
   "id": "46038cb6",
   "metadata": {},
   "source": [
    "Теперь повышаем н-граммы"
   ]
  },
  {
   "cell_type": "code",
   "execution_count": null,
   "id": "9ace5b6e",
   "metadata": {},
   "outputs": [],
   "source": [
    "vec = CountVectorizer(analyzer='char', ngram_range=(1,5), max_features=800)\n",
    "X = vec.fit_transform(vocab)\n",
    "\n",
    "res = get_metrics(get_closest_hybrid_match)"
   ]
  },
  {
   "cell_type": "code",
   "execution_count": 51,
   "id": "e9682060",
   "metadata": {},
   "outputs": [
    {
     "name": "stdout",
     "output_type": "stream",
     "text": [
      "correct/total: 0.8548274137068534\n",
      "mistaken_fixed/total_mistaken: 0.48214285714285715\n",
      "correct_broken/total_correct: 0.09004249454461927\n",
      "CPU times: user 371 µs, sys: 118 µs, total: 489 µs\n",
      "Wall time: 420 µs\n"
     ]
    }
   ],
   "source": [
    "%%time\n",
    "\n",
    "print(f\"correct/total: {(res[0])}\")\n",
    "print(f\"mistaken_fixed/total_mistaken: {(res[1])}\")\n",
    "print(f\"correct_broken/total_correct: {(res[2])}\")"
   ]
  },
  {
   "cell_type": "markdown",
   "id": "8d8f58f9",
   "metadata": {},
   "source": [
    "6) Если повысить н-граммы, результат не меняется, попробую посмотреть на topn"
   ]
  },
  {
   "cell_type": "code",
   "execution_count": null,
   "id": "9fa2775f",
   "metadata": {},
   "outputs": [],
   "source": [
    "vec = CountVectorizer(analyzer='char', ngram_range=(1,3), max_features=4000)\n",
    "X = vec.fit_transform(vocab)\n",
    "\n",
    "res = get_metrics(get_closest_hybrid_match, topn=50)"
   ]
  },
  {
   "cell_type": "code",
   "execution_count": 52,
   "id": "627490bd",
   "metadata": {},
   "outputs": [
    {
     "name": "stdout",
     "output_type": "stream",
     "text": [
      "correct/total: 0.8548274137068534\n",
      "mistaken_fixed/total_mistaken: 0.48214285714285715\n",
      "correct_broken/total_correct: 0.09004249454461927\n",
      "CPU times: user 471 µs, sys: 135 µs, total: 606 µs\n",
      "Wall time: 1.02 ms\n"
     ]
    }
   ],
   "source": [
    "%%time\n",
    "\n",
    "print(f\"correct/total: {(res[0])}\")\n",
    "print(f\"mistaken_fixed/total_mistaken: {(res[1])}\")\n",
    "print(f\"correct_broken/total_correct: {(res[2])}\")"
   ]
  },
  {
   "cell_type": "markdown",
   "id": "3b56fca1",
   "metadata": {},
   "source": [
    "7) Результат не улучшился, хотя в прошлой версии ДЗ он повысился."
   ]
  },
  {
   "cell_type": "code",
   "execution_count": 53,
   "id": "0daa4364",
   "metadata": {},
   "outputs": [
    {
     "name": "stdout",
     "output_type": "stream",
     "text": [
      "0\n",
      "100\n",
      "200\n",
      "300\n",
      "400\n",
      "500\n",
      "600\n",
      "700\n",
      "800\n",
      "900\n"
     ]
    }
   ],
   "source": [
    "vec = CountVectorizer(analyzer='char', ngram_range=(1,5), max_features=4000)\n",
    "X = vec.fit_transform(vocab)\n",
    "\n",
    "res = get_metrics(get_closest_hybrid_match, topn=5)"
   ]
  },
  {
   "cell_type": "code",
   "execution_count": 54,
   "id": "04a2fd48",
   "metadata": {},
   "outputs": [
    {
     "name": "stdout",
     "output_type": "stream",
     "text": [
      "correct/total: 0.8545272636318159\n",
      "mistaken_fixed/total_mistaken: 0.4798136645962733\n",
      "correct_broken/total_correct: 0.09004249454461927\n",
      "CPU times: user 532 µs, sys: 517 µs, total: 1.05 ms\n",
      "Wall time: 585 µs\n"
     ]
    }
   ],
   "source": [
    "%%time\n",
    "\n",
    "print(f\"correct/total: {(res[0])}\")\n",
    "print(f\"mistaken_fixed/total_mistaken: {(res[1])}\")\n",
    "print(f\"correct_broken/total_correct: {(res[2])}\")"
   ]
  },
  {
   "cell_type": "code",
   "execution_count": null,
   "id": "6e4c98e2",
   "metadata": {},
   "outputs": [],
   "source": [
    "Стало слегка хуже."
   ]
  },
  {
   "cell_type": "markdown",
   "id": "2bcee41c",
   "metadata": {},
   "source": [
    "8) Посмотрю, что будет при повышенных макс фичерс + пониженных н-граммах:"
   ]
  },
  {
   "cell_type": "code",
   "execution_count": 56,
   "id": "be1bb1e3",
   "metadata": {},
   "outputs": [
    {
     "name": "stdout",
     "output_type": "stream",
     "text": [
      "0\n",
      "100\n",
      "200\n",
      "300\n",
      "400\n",
      "500\n",
      "600\n",
      "700\n",
      "800\n",
      "900\n"
     ]
    }
   ],
   "source": [
    "vec = CountVectorizer(analyzer='char', ngram_range=(1,2), max_features=4000)\n",
    "X = vec.fit_transform(vocab)\n",
    "\n",
    "res = get_metrics(get_closest_hybrid_match, topn=25)"
   ]
  },
  {
   "cell_type": "code",
   "execution_count": 57,
   "id": "1a481ad0",
   "metadata": {},
   "outputs": [
    {
     "name": "stdout",
     "output_type": "stream",
     "text": [
      "correct/total: 0.8540270135067534\n",
      "mistaken_fixed/total_mistaken: 0.47593167701863354\n",
      "correct_broken/total_correct: 0.09004249454461927\n",
      "CPU times: user 1.15 ms, sys: 419 µs, total: 1.57 ms\n",
      "Wall time: 3.18 ms\n"
     ]
    }
   ],
   "source": [
    "%%time\n",
    "\n",
    "print(f\"correct/total: {(res[0])}\")\n",
    "print(f\"mistaken_fixed/total_mistaken: {(res[1])}\")\n",
    "print(f\"correct_broken/total_correct: {(res[2])}\")"
   ]
  },
  {
   "cell_type": "code",
   "execution_count": null,
   "id": "8a903e71",
   "metadata": {},
   "outputs": [],
   "source": [
    "Стало хуже, н-грамы больше не трогаю."
   ]
  },
  {
   "cell_type": "markdown",
   "id": "9363687d",
   "metadata": {},
   "source": [
    "9) Посмотрим,что получается с max_df, min_df:"
   ]
  },
  {
   "cell_type": "code",
   "execution_count": 58,
   "id": "7ebae5de",
   "metadata": {},
   "outputs": [
    {
     "name": "stdout",
     "output_type": "stream",
     "text": [
      "0\n",
      "100\n",
      "200\n",
      "300\n",
      "400\n",
      "500\n",
      "600\n",
      "700\n",
      "800\n",
      "900\n"
     ]
    }
   ],
   "source": [
    "vec = CountVectorizer(analyzer='char', max_features=4000, max_df=0.4, min_df=0.04 )\n",
    "X = vec.fit_transform(vocab)\n",
    "\n",
    "res = get_metrics(get_closest_hybrid_match, topn=50)"
   ]
  },
  {
   "cell_type": "code",
   "execution_count": 59,
   "id": "4279d5d4",
   "metadata": {},
   "outputs": [
    {
     "name": "stdout",
     "output_type": "stream",
     "text": [
      "correct/total: 0.8491245622811405\n",
      "mistaken_fixed/total_mistaken: 0.43788819875776397\n",
      "correct_broken/total_correct: 0.09004249454461927\n",
      "CPU times: user 1.71 ms, sys: 1.6 ms, total: 3.3 ms\n",
      "Wall time: 3.4 ms\n"
     ]
    }
   ],
   "source": [
    "%%time\n",
    "\n",
    "print(f\"correct/total: {(res[0])}\")\n",
    "print(f\"mistaken_fixed/total_mistaken: {(res[1])}\")\n",
    "print(f\"correct_broken/total_correct: {(res[2])}\")"
   ]
  },
  {
   "cell_type": "markdown",
   "id": "b6c63249",
   "metadata": {},
   "source": [
    "10) Стало заметно хуже, попробую уменьшить эти параметры: max_df, min_df"
   ]
  },
  {
   "cell_type": "code",
   "execution_count": 60,
   "id": "ccfbb11c",
   "metadata": {},
   "outputs": [
    {
     "name": "stdout",
     "output_type": "stream",
     "text": [
      "0\n",
      "100\n",
      "200\n",
      "300\n",
      "400\n",
      "500\n",
      "600\n",
      "700\n",
      "800\n",
      "900\n"
     ]
    }
   ],
   "source": [
    "vec = CountVectorizer(analyzer='char', max_features=4000, max_df=0.1, min_df=0.001 )\n",
    "X = vec.fit_transform(vocab)\n",
    "\n",
    "res = get_metrics(get_closest_hybrid_match, topn=50)"
   ]
  },
  {
   "cell_type": "code",
   "execution_count": 64,
   "id": "cbf86c22",
   "metadata": {},
   "outputs": [
    {
     "name": "stdout",
     "output_type": "stream",
     "text": [
      "correct/total: 0.8542271135567784\n",
      "mistaken_fixed/total_mistaken: 0.47748447204968947\n",
      "correct_broken/total_correct: 0.09004249454461927\n",
      "CPU times: user 606 µs, sys: 1.04 ms, total: 1.65 ms\n",
      "Wall time: 2.97 ms\n"
     ]
    }
   ],
   "source": [
    "%%time\n",
    "\n",
    "print(f\"correct/total: {(res[0])}\")\n",
    "print(f\"mistaken_fixed/total_mistaken: {(res[1])}\")\n",
    "print(f\"correct_broken/total_correct: {(res[2])}\")"
   ]
  },
  {
   "cell_type": "markdown",
   "id": "cadbadc4",
   "metadata": {},
   "source": [
    "# Выводы: для получения наилучшего результаты max_features можно повысить, topn тоже. Ngram_range дает такие себе результаты, поэтому этот параметр лучше оставить в покое. Можно в разные стороны покрутить max_df, min_df - результат будет меняться.¶"
   ]
  },
  {
   "cell_type": "markdown",
   "id": "54eb746f",
   "metadata": {},
   "source": [
    "# Насчет max_features хотелось бы добавить, что чем этот параметр выше, тем система тратит больше времени на выполнение когда."
   ]
  }
 ],
 "metadata": {
  "kernelspec": {
   "display_name": "Python 3",
   "language": "python",
   "name": "python3"
  },
  "language_info": {
   "codemirror_mode": {
    "name": "ipython",
    "version": 3
   },
   "file_extension": ".py",
   "mimetype": "text/x-python",
   "name": "python",
   "nbconvert_exporter": "python",
   "pygments_lexer": "ipython3",
   "version": "3.8.8"
  }
 },
 "nbformat": 4,
 "nbformat_minor": 5
}
