{
 "cells": [
  {
   "cell_type": "code",
   "execution_count": 2,
   "id": "1f9a9ac5",
   "metadata": {},
   "outputs": [
    {
     "name": "stdout",
     "output_type": "stream",
     "text": [
      "Collecting tensorflow\n",
      "  Downloading tensorflow-2.7.0-cp38-cp38-macosx_10_11_x86_64.whl (207.1 MB)\n",
      "\u001b[K     |████████████████████████████████| 207.1 MB 45 kB/s  eta 0:00:01    |███▉                            | 25.1 MB 2.8 MB/s eta 0:01:06     |████▌                           | 29.1 MB 2.8 MB/s eta 0:01:04     |████████                        | 52.5 MB 2.0 MB/s eta 0:01:20     |█████████▌                      | 61.5 MB 2.0 MB/s eta 0:01:14     |██████████                      | 64.9 MB 2.0 MB/s eta 0:01:12     |███████████▎                    | 73.2 MB 18.7 MB/s eta 0:00:08     |███████████▌                    | 74.1 MB 18.7 MB/s eta 0:00:08     |█████████████▌                  | 87.7 MB 559 kB/s eta 0:03:34     |██████████████▍                 | 92.8 MB 2.7 MB/s eta 0:00:42     |█████████████████▊              | 114.8 MB 2.0 MB/s eta 0:00:46     |█████████████████████▉          | 141.1 MB 4.2 MB/s eta 0:00:16     |███████████████████████         | 148.2 MB 1.9 MB/s eta 0:00:31     |███████████████████████████▏    | 175.8 MB 2.0 MB/s eta 0:00:16     |█████████████████████████████▎  | 189.5 MB 3.9 MB/s eta 0:00:05     |█████████████████████████████▊  | 192.5 MB 6.7 MB/s eta 0:00:03     |███████████████████████████████▊| 205.2 MB 1.9 MB/s eta 0:00:01\n",
      "\u001b[?25hRequirement already satisfied: typing-extensions>=3.6.6 in /Users/anna/opt/anaconda3/lib/python3.8/site-packages (from tensorflow) (3.7.4.3)\n",
      "Collecting keras-preprocessing>=1.1.1\n",
      "  Downloading Keras_Preprocessing-1.1.2-py2.py3-none-any.whl (42 kB)\n",
      "\u001b[K     |████████████████████████████████| 42 kB 3.0 MB/s  eta 0:00:01\n",
      "\u001b[?25hCollecting tensorboard~=2.6\n",
      "  Downloading tensorboard-2.8.0-py3-none-any.whl (5.8 MB)\n",
      "\u001b[K     |████████████████████████████████| 5.8 MB 3.4 MB/s eta 0:00:01     |██████████████▊                 | 2.7 MB 9.7 MB/s eta 0:00:01\n",
      "\u001b[?25hRequirement already satisfied: wrapt>=1.11.0 in /Users/anna/opt/anaconda3/lib/python3.8/site-packages (from tensorflow) (1.12.1)\n",
      "Collecting keras<2.8,>=2.7.0rc0\n",
      "  Downloading keras-2.7.0-py2.py3-none-any.whl (1.3 MB)\n",
      "\u001b[K     |████████████████████████████████| 1.3 MB 6.8 MB/s eta 0:00:01\n",
      "\u001b[?25hCollecting absl-py>=0.4.0\n",
      "  Downloading absl_py-1.0.0-py3-none-any.whl (126 kB)\n",
      "\u001b[K     |████████████████████████████████| 126 kB 10.7 MB/s eta 0:00:01\n",
      "\u001b[?25hCollecting gast<0.5.0,>=0.2.1\n",
      "  Downloading gast-0.4.0-py3-none-any.whl (9.8 kB)\n",
      "Collecting google-pasta>=0.1.1\n",
      "  Downloading google_pasta-0.2.0-py3-none-any.whl (57 kB)\n",
      "\u001b[K     |████████████████████████████████| 57 kB 6.1 MB/s eta 0:00:011\n",
      "\u001b[?25hCollecting protobuf>=3.9.2\n",
      "  Downloading protobuf-3.19.4-cp38-cp38-macosx_10_9_x86_64.whl (961 kB)\n",
      "\u001b[K     |████████████████████████████████| 961 kB 3.6 MB/s eta 0:00:01\n",
      "\u001b[?25hCollecting astunparse>=1.6.0\n",
      "  Downloading astunparse-1.6.3-py2.py3-none-any.whl (12 kB)\n",
      "Requirement already satisfied: wheel<1.0,>=0.32.0 in /Users/anna/opt/anaconda3/lib/python3.8/site-packages (from tensorflow) (0.36.2)\n",
      "Collecting opt-einsum>=2.3.2\n",
      "  Downloading opt_einsum-3.3.0-py3-none-any.whl (65 kB)\n",
      "\u001b[K     |████████████████████████████████| 65 kB 4.3 MB/s eta 0:00:011\n",
      "\u001b[?25hCollecting tensorflow-io-gcs-filesystem>=0.21.0\n",
      "  Downloading tensorflow_io_gcs_filesystem-0.23.1-cp38-cp38-macosx_10_14_x86_64.whl (1.6 MB)\n",
      "\u001b[K     |████████████████████████████████| 1.6 MB 8.2 MB/s eta 0:00:01\n",
      "\u001b[?25hRequirement already satisfied: six>=1.12.0 in /Users/anna/opt/anaconda3/lib/python3.8/site-packages (from tensorflow) (1.15.0)\n",
      "Collecting flatbuffers<3.0,>=1.12\n",
      "  Downloading flatbuffers-2.0-py2.py3-none-any.whl (26 kB)\n",
      "Collecting grpcio<2.0,>=1.24.3\n",
      "  Downloading grpcio-1.43.0-cp38-cp38-macosx_10_10_x86_64.whl (4.2 MB)\n",
      "\u001b[K     |████████████████████████████████| 4.2 MB 5.1 MB/s eta 0:00:01\n",
      "\u001b[?25hCollecting termcolor>=1.1.0\n",
      "  Downloading termcolor-1.1.0.tar.gz (3.9 kB)\n",
      "Requirement already satisfied: h5py>=2.9.0 in /Users/anna/opt/anaconda3/lib/python3.8/site-packages (from tensorflow) (2.10.0)\n",
      "Collecting tensorflow-estimator<2.8,~=2.7.0rc0\n",
      "  Downloading tensorflow_estimator-2.7.0-py2.py3-none-any.whl (463 kB)\n",
      "\u001b[K     |████████████████████████████████| 463 kB 4.9 MB/s eta 0:00:01\n",
      "\u001b[?25hCollecting libclang>=9.0.1\n",
      "  Downloading libclang-13.0.0-py2.py3-none-macosx_10_9_x86_64.whl (13.0 MB)\n",
      "\u001b[K     |████████████████████████████████| 13.0 MB 1.6 MB/s eta 0:00:01\n",
      "\u001b[?25hRequirement already satisfied: numpy>=1.14.5 in /Users/anna/opt/anaconda3/lib/python3.8/site-packages (from tensorflow) (1.20.1)\n",
      "Collecting tensorboard-plugin-wit>=1.6.0\n",
      "  Downloading tensorboard_plugin_wit-1.8.1-py3-none-any.whl (781 kB)\n",
      "\u001b[K     |████████████████████████████████| 781 kB 7.0 MB/s eta 0:00:01\n",
      "\u001b[?25hRequirement already satisfied: requests<3,>=2.21.0 in /Users/anna/opt/anaconda3/lib/python3.8/site-packages (from tensorboard~=2.6->tensorflow) (2.25.1)\n",
      "Requirement already satisfied: werkzeug>=0.11.15 in /Users/anna/opt/anaconda3/lib/python3.8/site-packages (from tensorboard~=2.6->tensorflow) (1.0.1)\n",
      "Requirement already satisfied: setuptools>=41.0.0 in /Users/anna/opt/anaconda3/lib/python3.8/site-packages (from tensorboard~=2.6->tensorflow) (52.0.0.post20210125)\n",
      "Collecting google-auth<3,>=1.6.3\n",
      "  Downloading google_auth-2.5.0-py2.py3-none-any.whl (157 kB)\n",
      "\u001b[K     |████████████████████████████████| 157 kB 6.4 MB/s eta 0:00:01\n",
      "\u001b[?25hCollecting markdown>=2.6.8\n",
      "  Downloading Markdown-3.3.6-py3-none-any.whl (97 kB)\n",
      "\u001b[K     |████████████████████████████████| 97 kB 4.6 MB/s eta 0:00:011\n",
      "\u001b[?25hCollecting tensorboard-data-server<0.7.0,>=0.6.0\n",
      "  Downloading tensorboard_data_server-0.6.1-py3-none-macosx_10_9_x86_64.whl (3.5 MB)\n",
      "\u001b[K     |████████████████████████████████| 3.5 MB 68 kB/s eta 0:00:011\n",
      "\u001b[?25hCollecting google-auth-oauthlib<0.5,>=0.4.1\n",
      "  Downloading google_auth_oauthlib-0.4.6-py2.py3-none-any.whl (18 kB)\n",
      "Collecting rsa<5,>=3.1.4\n",
      "  Downloading rsa-4.8-py3-none-any.whl (39 kB)\n",
      "Collecting pyasn1-modules>=0.2.1\n",
      "  Downloading pyasn1_modules-0.2.8-py2.py3-none-any.whl (155 kB)\n",
      "\u001b[K     |████████████████████████████████| 155 kB 6.4 MB/s eta 0:00:01\n",
      "\u001b[?25hCollecting cachetools<6.0,>=2.0.0\n",
      "  Downloading cachetools-5.0.0-py3-none-any.whl (9.1 kB)\n",
      "Collecting requests-oauthlib>=0.7.0\n",
      "  Downloading requests_oauthlib-1.3.0-py2.py3-none-any.whl (23 kB)\n",
      "Collecting importlib-metadata>=4.4\n",
      "  Downloading importlib_metadata-4.10.1-py3-none-any.whl (17 kB)\n",
      "Requirement already satisfied: zipp>=0.5 in /Users/anna/opt/anaconda3/lib/python3.8/site-packages (from importlib-metadata>=4.4->markdown>=2.6.8->tensorboard~=2.6->tensorflow) (3.4.1)\n",
      "Collecting pyasn1<0.5.0,>=0.4.6\n",
      "  Downloading pyasn1-0.4.8-py2.py3-none-any.whl (77 kB)\n",
      "\u001b[K     |████████████████████████████████| 77 kB 6.4 MB/s eta 0:00:011\n",
      "\u001b[?25hRequirement already satisfied: urllib3<1.27,>=1.21.1 in /Users/anna/opt/anaconda3/lib/python3.8/site-packages (from requests<3,>=2.21.0->tensorboard~=2.6->tensorflow) (1.26.4)\n",
      "Requirement already satisfied: idna<3,>=2.5 in /Users/anna/opt/anaconda3/lib/python3.8/site-packages (from requests<3,>=2.21.0->tensorboard~=2.6->tensorflow) (2.10)\n",
      "Requirement already satisfied: certifi>=2017.4.17 in /Users/anna/opt/anaconda3/lib/python3.8/site-packages (from requests<3,>=2.21.0->tensorboard~=2.6->tensorflow) (2020.12.5)\n",
      "Requirement already satisfied: chardet<5,>=3.0.2 in /Users/anna/opt/anaconda3/lib/python3.8/site-packages (from requests<3,>=2.21.0->tensorboard~=2.6->tensorflow) (4.0.0)\n",
      "Collecting oauthlib>=3.0.0\n",
      "  Downloading oauthlib-3.1.1-py2.py3-none-any.whl (146 kB)\n",
      "\u001b[K     |████████████████████████████████| 146 kB 5.0 MB/s eta 0:00:01\n",
      "\u001b[?25hBuilding wheels for collected packages: termcolor\n",
      "  Building wheel for termcolor (setup.py) ... \u001b[?25ldone\n",
      "\u001b[?25h  Created wheel for termcolor: filename=termcolor-1.1.0-py3-none-any.whl size=4829 sha256=5a6d0cd273d013915ca228164ff376fd884e5be8375e6401f27398a9278b3abf\n",
      "  Stored in directory: /Users/anna/Library/Caches/pip/wheels/a0/16/9c/5473df82468f958445479c59e784896fa24f4a5fc024b0f501\n",
      "Successfully built termcolor\n",
      "Installing collected packages: pyasn1, rsa, pyasn1-modules, oauthlib, cachetools, requests-oauthlib, importlib-metadata, google-auth, tensorboard-plugin-wit, tensorboard-data-server, protobuf, markdown, grpcio, google-auth-oauthlib, absl-py, termcolor, tensorflow-io-gcs-filesystem, tensorflow-estimator, tensorboard, opt-einsum, libclang, keras-preprocessing, keras, google-pasta, gast, flatbuffers, astunparse, tensorflow\n",
      "  Attempting uninstall: importlib-metadata\n",
      "    Found existing installation: importlib-metadata 3.10.0\n",
      "    Uninstalling importlib-metadata-3.10.0:\n",
      "      Successfully uninstalled importlib-metadata-3.10.0\n",
      "Successfully installed absl-py-1.0.0 astunparse-1.6.3 cachetools-5.0.0 flatbuffers-2.0 gast-0.4.0 google-auth-2.5.0 google-auth-oauthlib-0.4.6 google-pasta-0.2.0 grpcio-1.43.0 importlib-metadata-4.10.1 keras-2.7.0 keras-preprocessing-1.1.2 libclang-13.0.0 markdown-3.3.6 oauthlib-3.1.1 opt-einsum-3.3.0 protobuf-3.19.4 pyasn1-0.4.8 pyasn1-modules-0.2.8 requests-oauthlib-1.3.0 rsa-4.8 tensorboard-2.8.0 tensorboard-data-server-0.6.1 tensorboard-plugin-wit-1.8.1 tensorflow-2.7.0 tensorflow-estimator-2.7.0 tensorflow-io-gcs-filesystem-0.23.1 termcolor-1.1.0\n"
     ]
    }
   ],
   "source": [
    "!pip install tensorflow"
   ]
  },
  {
   "cell_type": "code",
   "execution_count": 4,
   "id": "121dc7cc",
   "metadata": {},
   "outputs": [
    {
     "name": "stdout",
     "output_type": "stream",
     "text": [
      "Requirement already satisfied: pymorphy2 in /Users/anna/opt/anaconda3/lib/python3.8/site-packages (0.9.1)\n",
      "Requirement already satisfied: docopt>=0.6 in /Users/anna/opt/anaconda3/lib/python3.8/site-packages (from pymorphy2) (0.6.2)\n",
      "Requirement already satisfied: pymorphy2-dicts-ru<3.0,>=2.4 in /Users/anna/opt/anaconda3/lib/python3.8/site-packages (from pymorphy2) (2.4.417127.4579844)\n",
      "Requirement already satisfied: dawg-python>=0.7.1 in /Users/anna/opt/anaconda3/lib/python3.8/site-packages (from pymorphy2) (0.7.2)\n",
      "Requirement already satisfied: razdel in /Users/anna/opt/anaconda3/lib/python3.8/site-packages (0.5.0)\n"
     ]
    }
   ],
   "source": [
    "!pip install pymorphy2\n",
    "!pip install razdel"
   ]
  },
  {
   "cell_type": "code",
   "execution_count": 5,
   "id": "6bc79ad4",
   "metadata": {},
   "outputs": [
    {
     "name": "stdout",
     "output_type": "stream",
     "text": [
      "Requirement already satisfied: gensim in /Users/anna/opt/anaconda3/lib/python3.8/site-packages (4.1.2)\n",
      "Requirement already satisfied: numpy>=1.17.0 in /Users/anna/opt/anaconda3/lib/python3.8/site-packages (from gensim) (1.20.1)\n",
      "Requirement already satisfied: scipy>=0.18.1 in /Users/anna/opt/anaconda3/lib/python3.8/site-packages (from gensim) (1.6.2)\n",
      "Requirement already satisfied: smart-open>=1.8.1 in /Users/anna/opt/anaconda3/lib/python3.8/site-packages (from gensim) (5.2.1)\n"
     ]
    }
   ],
   "source": [
    "!pip install gensim --upgrade"
   ]
  },
  {
   "cell_type": "code",
   "execution_count": 3,
   "id": "4c5b8bbc",
   "metadata": {},
   "outputs": [],
   "source": [
    "import tensorflow as tf\n",
    "import numpy as np\n",
    "import pandas as pd\n",
    "from string import punctuation\n",
    "from sklearn.model_selection import train_test_split\n",
    "from collections import Counter\n",
    "import matplotlib.pyplot as plt\n",
    "from sklearn.decomposition import TruncatedSVD\n",
    "from sklearn.feature_extraction.text import CountVectorizer\n",
    "from sklearn.metrics.pairwise import cosine_distances"
   ]
  },
  {
   "cell_type": "code",
   "execution_count": 14,
   "id": "bcb2ac05",
   "metadata": {},
   "outputs": [],
   "source": [
    "from pymorphy2 import MorphAnalyzer\n",
    "morph = MorphAnalyzer()"
   ]
  },
  {
   "cell_type": "code",
   "execution_count": 151,
   "id": "7a257e72",
   "metadata": {},
   "outputs": [],
   "source": [
    "import gensim"
   ]
  },
  {
   "cell_type": "code",
   "execution_count": 52,
   "id": "4903b059",
   "metadata": {},
   "outputs": [],
   "source": [
    "wiki = open('wiki_data.txt').read().split('\\n')"
   ]
  },
  {
   "cell_type": "code",
   "execution_count": 53,
   "id": "e7e39fa7",
   "metadata": {},
   "outputs": [],
   "source": [
    "from pymorphy2 import MorphAnalyzer\n",
    "\n",
    "morph = MorphAnalyzer()\n",
    "\n",
    "def return_lemma(token):\n",
    "    return morph.parse(token)[0].normal_form\n",
    "\n",
    "def preprocess(text):\n",
    "    tokens = text.lower().split()\n",
    "    tokens = [token.strip(punctuation) for token in tokens]\n",
    "    tokens = [return_lemma(token) for token in tokens]\n",
    "    return tokens"
   ]
  },
  {
   "cell_type": "code",
   "execution_count": 55,
   "id": "2641128e",
   "metadata": {},
   "outputs": [],
   "source": [
    "vocab = Counter()\n",
    "\n",
    "for text in wiki:\n",
    "    vocab.update(preprocess(text))"
   ]
  },
  {
   "cell_type": "code",
   "execution_count": 56,
   "id": "ecd0fa43",
   "metadata": {},
   "outputs": [],
   "source": [
    "filtered_vocab = set()\n",
    "\n",
    "for word in vocab:\n",
    "    if vocab[word] > 30:\n",
    "        filtered_vocab.add(word)"
   ]
  },
  {
   "cell_type": "code",
   "execution_count": 57,
   "id": "452c77bd",
   "metadata": {},
   "outputs": [
    {
     "data": {
      "text/plain": [
       "11987"
      ]
     },
     "execution_count": 57,
     "metadata": {},
     "output_type": "execute_result"
    }
   ],
   "source": [
    "len(filtered_vocab)"
   ]
  },
  {
   "cell_type": "code",
   "execution_count": 58,
   "id": "15b31b0c",
   "metadata": {},
   "outputs": [],
   "source": [
    "word2id = { 'PAD':0}\n",
    "\n",
    "for word in filtered_vocab:\n",
    "    word2id[word] = len(word2id)"
   ]
  },
  {
   "cell_type": "code",
   "execution_count": 59,
   "id": "bf166536",
   "metadata": {},
   "outputs": [],
   "source": [
    "id2word = {i:word for word, i in word2id.items()}"
   ]
  },
  {
   "cell_type": "code",
   "execution_count": 60,
   "id": "8ca6d90d",
   "metadata": {},
   "outputs": [],
   "source": [
    "sentences = []\n",
    "for text in wiki:\n",
    "    tokens = preprocess(text)\n",
    "    ids = [word2id[token] for token in tokens if token in word2id]\n",
    "    sentences.append(ids)"
   ]
  },
  {
   "cell_type": "markdown",
   "id": "8e9b08e0",
   "metadata": {},
   "source": [
    "skipgram"
   ]
  },
  {
   "cell_type": "code",
   "execution_count": 77,
   "id": "4b7561a7",
   "metadata": {},
   "outputs": [],
   "source": [
    "def gen_batches_sg(sentences, window, batch_size=1000):\n",
    "    while True:\n",
    "        X_target = []\n",
    "        X_context = []\n",
    "        y = []\n",
    "\n",
    "        for sent in sentences:\n",
    "            for i in range(len(sent)-1):\n",
    "                word = sent[i]\n",
    "                context = sent[max(0, i-window//2):i] + sent[i+1:i+window//2]\n",
    "                for context_word in context:\n",
    "                    X_target.append(word)\n",
    "                    X_context.append(context_word)\n",
    "                    y.append(1)\n",
    "                    \n",
    "                    X_target.append(word)\n",
    "                    X_context.append(np.random.randint(vocab_size))\n",
    "                    y.append(0)\n",
    "                    \n",
    "                    if len(X_target) >= batch_size:\n",
    "                        X_target = np.array(X_target)\n",
    "                        X_context = np.array(X_context)\n",
    "                        y = np.array(y)\n",
    "                        yield ((X_target, X_context), y)\n",
    "                        X_target = []\n",
    "                        X_context = []\n",
    "                        y = []"
   ]
  },
  {
   "cell_type": "code",
   "execution_count": 79,
   "id": "0fef8486",
   "metadata": {},
   "outputs": [],
   "source": [
    "vocab_size = len(id2word)"
   ]
  },
  {
   "cell_type": "code",
   "execution_count": 62,
   "id": "18f7af8e",
   "metadata": {},
   "outputs": [],
   "source": [
    "inputs_target = tf.keras.layers.Input(shape=(1,))\n",
    "inputs_context = tf.keras.layers.Input(shape=(1,))\n",
    "\n",
    "\n",
    "embeddings_target = tf.keras.layers.Embedding(input_dim=len(word2id), output_dim=300)(inputs_target, )\n",
    "embeddings_context = tf.keras.layers.Embedding(input_dim=len(word2id), output_dim=300)(inputs_context, )\n",
    "\n",
    "target = tf.keras.layers.Flatten()(embeddings_target)\n",
    "context = tf.keras.layers.Flatten()(embeddings_context)\n",
    "dot = tf.keras.layers.Dot(1)([target, context])\n",
    "outputs = tf.keras.layers.Activation(activation='sigmoid')(dot)\n",
    "\n",
    "model = tf.keras.Model(inputs=[inputs_target, inputs_context], \n",
    "                       outputs=outputs)\n",
    "optimizer = tf.keras.optimizers.Adam(learning_rate=0.001)\n",
    "model.compile(optimizer=optimizer,\n",
    "              loss='binary_crossentropy',\n",
    "              metrics=['accuracy'])"
   ]
  },
  {
   "cell_type": "code",
   "execution_count": 67,
   "id": "f94db9d2",
   "metadata": {},
   "outputs": [],
   "source": [
    "num_occur = sum(vocab[i] for i in filtered_vocab)\n",
    "\n",
    "probs = [vocab[i] / num_occur for i in filtered_vocab]"
   ]
  },
  {
   "cell_type": "code",
   "execution_count": 81,
   "id": "34349228",
   "metadata": {},
   "outputs": [
    {
     "name": "stdout",
     "output_type": "stream",
     "text": [
      "Epoch 1/2\n",
      "7000/7000 [==============================] - 564s 81ms/step - loss: 0.4474 - accuracy: 0.8002 - val_loss: 0.4662 - val_accuracy: 0.7930\n",
      "Epoch 2/2\n",
      "7000/7000 [==============================] - 529s 76ms/step - loss: 0.4293 - accuracy: 0.8136 - val_loss: 0.4737 - val_accuracy: 0.7891\n"
     ]
    },
    {
     "data": {
      "text/plain": [
       "<keras.callbacks.History at 0x10a7fe400>"
      ]
     },
     "execution_count": 81,
     "metadata": {},
     "output_type": "execute_result"
    }
   ],
   "source": [
    "model.fit(gen_batches_sg(sentences[:6666], window=12),\n",
    "          validation_data=gen_batches_sg(sentences[6666:],  window=12),\n",
    "          batch_size=1000,\n",
    "          steps_per_epoch=7000,\n",
    "          validation_steps=30,\n",
    "         epochs=2)"
   ]
  },
  {
   "cell_type": "code",
   "execution_count": 82,
   "id": "a19f664f",
   "metadata": {},
   "outputs": [],
   "source": [
    "embeddings_sg = model.layers[2].get_weights()[0]"
   ]
  },
  {
   "cell_type": "code",
   "execution_count": 83,
   "id": "2629f49d",
   "metadata": {},
   "outputs": [],
   "source": [
    "def most_similar(word, embeddings):\n",
    "    similar = [id2word[i] for i in \n",
    "               cosine_distances(embeddings[word2id[word]].reshape(1, -1), embeddings).argsort()[0][:10]]\n",
    "    return similar"
   ]
  },
  {
   "cell_type": "markdown",
   "id": "61517465",
   "metadata": {},
   "source": [
    "CBOW"
   ]
  },
  {
   "cell_type": "code",
   "execution_count": 136,
   "id": "c429f518",
   "metadata": {},
   "outputs": [],
   "source": [
    "def gen_batches_cbow(sentences, window, batch_size=1000):\n",
    "    while True:\n",
    "        X_target = []\n",
    "        X_context = []\n",
    "        y = []\n",
    "\n",
    "        for sent in sentences:\n",
    "            for i in range(len(sent)-1):\n",
    "                word = sent[i]\n",
    "                context = sent[max(0, i-window//2):i] + sent[i+1:i+window//2]\n",
    "                for context_word in context:\n",
    "                    X_target.append(word)\n",
    "                    X_context.append(context_word)\n",
    "                    y.append(1)\n",
    "                    \n",
    "                    X_target.append(word)\n",
    "                    X_context.append(np.random.randint(vocab_size))\n",
    "                    y.append(0)\n",
    "                    \n",
    "                    if len(X_target) >= batch_size:\n",
    "                        X_target = np.array(X_target)\n",
    "                        X_context = np.array(X_context)\n",
    "                        y = np.array(y)\n",
    "                        yield ((X_target, X_context), y)\n",
    "                        X_target = []\n",
    "                        X_context = []\n",
    "                        y = []"
   ]
  },
  {
   "cell_type": "code",
   "execution_count": 141,
   "id": "7687f83d",
   "metadata": {},
   "outputs": [],
   "source": [
    "inputs_target = tf.keras.layers.Input(shape=(1,))\n",
    "inputs_context = tf.keras.layers.Input(shape=(1,))\n",
    "\n",
    "\n",
    "embeddings_target = tf.keras.layers.Embedding(input_dim=len(word2id), output_dim=300)(inputs_target, )\n",
    "embeddings_context = tf.keras.layers.Embedding(input_dim=len(word2id), output_dim=300)(inputs_context, )\n",
    "\n",
    "target = tf.keras.layers.Flatten()(embeddings_target)\n",
    "context = tf.keras.layers.Flatten()(embeddings_context)\n",
    "\n",
    "dot = tf.keras.layers.Dot(1)([target, context])\n",
    "outputs = tf.keras.layers.Activation(activation='sigmoid')(dot)\n",
    "\n",
    "model = tf.keras.Model(inputs=[inputs_target, inputs_context], \n",
    "                       outputs=outputs)\n",
    "optimizer = tf.keras.optimizers.Adam(learning_rate=0.001)\n",
    "model.compile(optimizer=optimizer,\n",
    "              loss='binary_crossentropy',\n",
    "              metrics=['accuracy'])"
   ]
  },
  {
   "cell_type": "code",
   "execution_count": 142,
   "id": "eb0cf3e0",
   "metadata": {},
   "outputs": [
    {
     "name": "stdout",
     "output_type": "stream",
     "text": [
      "Epoch 1/2\n",
      "7000/7000 [==============================] - 559s 80ms/step - loss: 0.4552 - accuracy: 0.7929 - val_loss: 0.4635 - val_accuracy: 0.7956\n",
      "Epoch 2/2\n",
      "7000/7000 [==============================] - 517s 74ms/step - loss: 0.4293 - accuracy: 0.8137 - val_loss: 0.4740 - val_accuracy: 0.7865\n"
     ]
    },
    {
     "data": {
      "text/plain": [
       "<keras.callbacks.History at 0x10c3036a0>"
      ]
     },
     "execution_count": 142,
     "metadata": {},
     "output_type": "execute_result"
    }
   ],
   "source": [
    "model.fit(gen_batches_cbow(sentences[:6666], window=12),\n",
    "          validation_data=gen_batches_cbow(sentences[6666:],  window=12),\n",
    "          batch_size=1000,\n",
    "          steps_per_epoch=7000,\n",
    "          validation_steps=30,\n",
    "         epochs=2)"
   ]
  },
  {
   "cell_type": "code",
   "execution_count": 144,
   "id": "8788e441",
   "metadata": {},
   "outputs": [],
   "source": [
    "embeddings_cbow = model.layers[2].get_weights()[0]"
   ]
  },
  {
   "cell_type": "markdown",
   "id": "d0973ff1",
   "metadata": {},
   "source": [
    "# Сравниваю!!!"
   ]
  },
  {
   "attachments": {
    "IMAGE%202022-01-29%2003:32:39.jpg": {
     "image/jpeg": "[encoded data removed]"
    }
   },
   "cell_type": "markdown",
   "id": "fe04108d",
   "metadata": {},
   "source": [
    "![IMAGE%202022-01-29%2003:32:39.jpg](attachment:IMAGE%202022-01-29%2003:32:39.jpg)"
   ]
  },
  {
   "cell_type": "code",
   "execution_count": 145,
   "id": "95460794",
   "metadata": {},
   "outputs": [
    {
     "data": {
      "text/plain": [
       "['гора',\n",
       " 'склон',\n",
       " 'долина',\n",
       " 'озеро',\n",
       " 'плато',\n",
       " 'скала',\n",
       " 'вдоль',\n",
       " 'хребет',\n",
       " 'высота',\n",
       " 'лес']"
      ]
     },
     "execution_count": 145,
     "metadata": {},
     "output_type": "execute_result"
    }
   ],
   "source": [
    "most_similar('гора', embeddings_cbow)"
   ]
  },
  {
   "cell_type": "code",
   "execution_count": 146,
   "id": "c52e4371",
   "metadata": {},
   "outputs": [
    {
     "data": {
      "text/plain": [
       "['гора',\n",
       " 'озеро',\n",
       " 'склон',\n",
       " 'долина',\n",
       " 'плато',\n",
       " 'высота',\n",
       " 'река',\n",
       " 'метр',\n",
       " 'север',\n",
       " 'лес']"
      ]
     },
     "execution_count": 146,
     "metadata": {},
     "output_type": "execute_result"
    }
   ],
   "source": [
    "most_similar('гора', embeddings_sg)\n"
   ]
  },
  {
   "cell_type": "code",
   "execution_count": 147,
   "id": "61c8d8e1",
   "metadata": {},
   "outputs": [
    {
     "data": {
      "text/plain": [
       "['город',\n",
       " 'территория',\n",
       " 'деревня',\n",
       " 'округ',\n",
       " 'центр',\n",
       " 'столица',\n",
       " 'образовать',\n",
       " 'улица',\n",
       " 'губерния',\n",
       " 'граница']"
      ]
     },
     "execution_count": 147,
     "metadata": {},
     "output_type": "execute_result"
    }
   ],
   "source": [
    "most_similar('город', embeddings_cbow)"
   ]
  },
  {
   "cell_type": "code",
   "execution_count": 148,
   "id": "e4b9b0cb",
   "metadata": {},
   "outputs": [
    {
     "data": {
      "text/plain": [
       "['город',\n",
       " 'территория',\n",
       " 'деревня',\n",
       " 'округ',\n",
       " 'провинция',\n",
       " 'граница',\n",
       " 'присоединить',\n",
       " 'ныне',\n",
       " 'северный',\n",
       " 'районный']"
      ]
     },
     "execution_count": 148,
     "metadata": {},
     "output_type": "execute_result"
    }
   ],
   "source": [
    "most_similar('город', embeddings_sg)"
   ]
  },
  {
   "cell_type": "code",
   "execution_count": 149,
   "id": "3054cd08",
   "metadata": {},
   "outputs": [
    {
     "data": {
      "text/plain": [
       "['президент',\n",
       " 'съезд',\n",
       " 'комитет',\n",
       " 'избрать',\n",
       " 'вице-президент',\n",
       " 'член',\n",
       " 'парламент',\n",
       " 'генеральный',\n",
       " 'партия',\n",
       " 'председатель']"
      ]
     },
     "execution_count": 149,
     "metadata": {},
     "output_type": "execute_result"
    }
   ],
   "source": [
    "most_similar('президент', embeddings_cbow)"
   ]
  },
  {
   "cell_type": "code",
   "execution_count": 150,
   "id": "30e78a79",
   "metadata": {},
   "outputs": [
    {
     "data": {
      "text/plain": [
       "['президент',\n",
       " 'вице-президент',\n",
       " 'руководитель',\n",
       " 'директор',\n",
       " 'председатель',\n",
       " 'генеральный',\n",
       " 'член',\n",
       " 'возглавлять',\n",
       " 'партия',\n",
       " 'комитет']"
      ]
     },
     "execution_count": 150,
     "metadata": {},
     "output_type": "execute_result"
    }
   ],
   "source": [
    "most_similar('президент', embeddings_sg)"
   ]
  },
  {
   "cell_type": "markdown",
   "id": "6b1603fc",
   "metadata": {},
   "source": [
    "# Вывод: очевидного победителя я не наблюдаю."
   ]
  },
  {
   "cell_type": "markdown",
   "id": "81ab5457",
   "metadata": {},
   "source": [
    "# Задание 2"
   ]
  },
  {
   "cell_type": "code",
   "execution_count": 152,
   "id": "b7f875c8",
   "metadata": {},
   "outputs": [],
   "source": [
    "texts = [preprocess(text) for text in wiki]"
   ]
  },
  {
   "cell_type": "markdown",
   "id": "47547313",
   "metadata": {},
   "source": [
    "word2vec:"
   ]
  },
  {
   "cell_type": "code",
   "execution_count": 153,
   "id": "bb4830ce",
   "metadata": {},
   "outputs": [],
   "source": [
    "w2v = gensim.models.Word2Vec(texts)"
   ]
  },
  {
   "cell_type": "code",
   "execution_count": 154,
   "id": "ed97668d",
   "metadata": {},
   "outputs": [],
   "source": [
    "w2v = gensim.models.Word2Vec(texts, \n",
    "                             vector_size=250, \n",
    "                             min_count=20, \n",
    "                             max_vocab_size=15000,\n",
    "                             ns_exponent=0.80,\n",
    "                             sg=0, \n",
    "                             hs=1,\n",
    "                             negative=5,\n",
    "                             sample=1e-4,\n",
    "                             cbow_mean=3,\n",
    "                             window=4,\n",
    "                             epochs=10)"
   ]
  },
  {
   "cell_type": "markdown",
   "id": "f2be040f",
   "metadata": {},
   "source": [
    "fast text:"
   ]
  },
  {
   "cell_type": "code",
   "execution_count": 155,
   "id": "1d784b66",
   "metadata": {},
   "outputs": [],
   "source": [
    "ft = gensim.models.FastText(texts)"
   ]
  },
  {
   "cell_type": "code",
   "execution_count": 156,
   "id": "29149e19",
   "metadata": {},
   "outputs": [],
   "source": [
    "ft = gensim.models.FastText(texts, \n",
    "                            min_n=2, \n",
    "                            max_n=11,\n",
    "                            vector_size=200, \n",
    "                            min_count=20, \n",
    "                            max_vocab_size=10000,\n",
    "                            ns_exponent=0.95,\n",
    "                            sg=0, \n",
    "                            hs=1,\n",
    "                            negative=7,\n",
    "                            sample=1e-4,\n",
    "                            cbow_mean=4,\n",
    "                            window=4,\n",
    "                            epochs=11\n",
    "                           )"
   ]
  },
  {
   "cell_type": "markdown",
   "id": "5ca642f4",
   "metadata": {},
   "source": [
    "Сравнивать особо нет смысла, так как параметры разные, но из любопытства посмотрим, что тут происходит:"
   ]
  },
  {
   "cell_type": "code",
   "execution_count": 157,
   "id": "d64a2cd3",
   "metadata": {},
   "outputs": [
    {
     "data": {
      "text/plain": [
       "[('идти', 0.36127781867980957),\n",
       " ('общаться', 0.3541227877140045),\n",
       " ('автобус', 0.3498208522796631),\n",
       " ('ехать', 0.34445253014564514),\n",
       " ('приезжать', 0.3257996439933777),\n",
       " ('сидеть', 0.3137192130088806),\n",
       " ('отправлять', 0.3039594292640686),\n",
       " ('посещать', 0.300386905670166),\n",
       " ('никто', 0.2921314239501953),\n",
       " ('поезд', 0.2889462411403656)]"
      ]
     },
     "execution_count": 157,
     "metadata": {},
     "output_type": "execute_result"
    }
   ],
   "source": [
    "w2v.wv.most_similar('ходить')"
   ]
  },
  {
   "cell_type": "code",
   "execution_count": 158,
   "id": "7517a939",
   "metadata": {},
   "outputs": [
    {
     "data": {
      "text/plain": [
       "[('находить', 0.6254013180732727),\n",
       " ('идти', 0.48775631189346313),\n",
       " ('выходить', 0.4701355993747711),\n",
       " ('попадать', 0.4656963050365448),\n",
       " ('держать', 0.4303120970726013),\n",
       " ('жить', 0.4241572618484497),\n",
       " ('собираться', 0.4230268895626068),\n",
       " ('проходить', 0.41606083512306213),\n",
       " ('убивать', 0.4060570001602173),\n",
       " ('приходиться', 0.3996012508869171)]"
      ]
     },
     "execution_count": 158,
     "metadata": {},
     "output_type": "execute_result"
    }
   ],
   "source": [
    "ft.wv.most_similar('ходить')"
   ]
  },
  {
   "cell_type": "code",
   "execution_count": 159,
   "id": "b68f8485",
   "metadata": {},
   "outputs": [
    {
     "data": {
      "text/plain": [
       "[('большой', 0.3869962692260742),\n",
       " ('малый', 0.37574249505996704),\n",
       " ('намного', 0.37259411811828613),\n",
       " ('выше', 0.3609200119972229),\n",
       " ('больший', 0.3580716550350189),\n",
       " ('вырасти', 0.3191292881965637),\n",
       " ('небольшой', 0.307831346988678),\n",
       " ('более', 0.3005596101284027),\n",
       " ('ниже', 0.29779624938964844),\n",
       " ('длинный', 0.2877942621707916)]"
      ]
     },
     "execution_count": 159,
     "metadata": {},
     "output_type": "execute_result"
    }
   ],
   "source": [
    "w2v.wv.most_similar('маленький')"
   ]
  },
  {
   "cell_type": "code",
   "execution_count": 160,
   "id": "d8981d8b",
   "metadata": {},
   "outputs": [
    {
     "data": {
      "text/plain": [
       "[('большой', 0.5571520924568176),\n",
       " ('мало', 0.5165091753005981),\n",
       " ('небольшой', 0.4639541208744049),\n",
       " ('малый', 0.45974716544151306),\n",
       " ('больший', 0.4563716650009155),\n",
       " ('значительно', 0.41902634501457214),\n",
       " ('сильно', 0.41716212034225464),\n",
       " ('длинный', 0.41137051582336426),\n",
       " ('очень', 0.3912656009197235),\n",
       " ('похожий', 0.3767889142036438)]"
      ]
     },
     "execution_count": 160,
     "metadata": {},
     "output_type": "execute_result"
    }
   ],
   "source": [
    "ft.wv.most_similar('маленький')"
   ]
  }
 ],
 "metadata": {
  "kernelspec": {
   "display_name": "Python 3",
   "language": "python",
   "name": "python3"
  },
  "language_info": {
   "codemirror_mode": {
    "name": "ipython",
    "version": 3
   },
   "file_extension": ".py",
   "mimetype": "text/x-python",
   "name": "python",
   "nbconvert_exporter": "python",
   "pygments_lexer": "ipython3",
   "version": "3.8.8"
  }
 },
 "nbformat": 4,
 "nbformat_minor": 5
}
